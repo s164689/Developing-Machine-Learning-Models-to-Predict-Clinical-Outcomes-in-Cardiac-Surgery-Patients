{
 "cells": [
  {
   "cell_type": "code",
   "execution_count": null,
   "metadata": {},
   "outputs": [],
   "source": [
    "\n",
    "#import csv\n",
    "import matplotlib.pyplot as plt\n",
    "import numpy as np\n",
    "import pandas as pd\n",
    "import chardet\n",
    "from datetime import datetime, timedelta\n",
    "import locale\n",
    "from sklearn.decomposition import PCA\n",
    "from sklearn import preprocessing\n",
    "import prince\n",
    "\n",
    "#pd.set_option(\"future.no_silent_downcasting\", True)"
   ]
  },
  {
   "cell_type": "markdown",
   "metadata": {},
   "source": [
    "## Population"
   ]
  },
  {
   "cell_type": "markdown",
   "metadata": {},
   "source": [
    "Fetching file for population and preview"
   ]
  },
  {
   "cell_type": "code",
   "execution_count": null,
   "metadata": {},
   "outputs": [],
   "source": [
    "populationDF = pd.read_csv(r\"DataCSV\\Populationen.csv\", sep = ';')\n",
    "\n",
    "pd.set_option('display.max_columns', None)\n",
    "pd.set_option('display.max_rows', 25)\n",
    "populationDF"
   ]
  },
  {
   "cell_type": "markdown",
   "metadata": {},
   "source": [
    "Column names then remove unwanted columns"
   ]
  },
  {
   "cell_type": "code",
   "execution_count": null,
   "metadata": {},
   "outputs": [],
   "source": [
    "populationDF.columns.to_list()"
   ]
  },
  {
   "cell_type": "markdown",
   "metadata": {},
   "source": [
    "Create dictionary for column names - 'old name' : 'new name'"
   ]
  },
  {
   "cell_type": "code",
   "execution_count": null,
   "metadata": {},
   "outputs": [],
   "source": [
    "populationDFColumnsDic = {'CPR'                             : 'CPR',\n",
    "                          'Alder på operationstidspunkt'    : 'Age',\n",
    "                          'Køn'                             : 'Sex',\n",
    "                          'Dødsdato'                        : 'DeathDate',\n",
    "                          'Død inden for 1 år af operation' : 'DeathWithinYear',\n",
    "                          'Operationsdato'                  : 'OperationDate',\n",
    "                          'Operation SKS kode'              : 'SKSCode',\n",
    "                          'Operationsnavn'                  : 'OperationName',\n",
    "                          'Indlæggelsestidspunkt'           : 'HospitalizationDate',\n",
    "                          'Udskrivelsestidspunkt'           : 'DischargeDate',\n",
    "                          'Indlæggelsesvarrighed i dage'    : 'DurationInDays'}"
   ]
  },
  {
   "cell_type": "code",
   "execution_count": null,
   "metadata": {},
   "outputs": [],
   "source": []
  },
  {
   "cell_type": "code",
   "execution_count": null,
   "metadata": {},
   "outputs": [],
   "source": [
    "populationDF = populationDF.rename(columns = populationDFColumnsDic)\n",
    "populationDF"
   ]
  },
  {
   "cell_type": "code",
   "execution_count": null,
   "metadata": {},
   "outputs": [],
   "source": [
    "populationDF = populationDF.drop(columns = ['OperationName'])"
   ]
  },
  {
   "cell_type": "markdown",
   "metadata": {},
   "source": [
    "## PATS"
   ]
  },
  {
   "cell_type": "code",
   "execution_count": null,
   "metadata": {},
   "outputs": [],
   "source": [
    "PATSdf = pd.read_csv(r\"DataCSV\\PATS data 2018-23  pr. 150424.csv\", sep = ';')\n",
    "\n",
    "\n",
    "PATSdfColumnsDic = {'CPR'                      : 'CPR',\n",
    "                    'Proceduredato'            : 'ProcedureDate',\n",
    "                    'Alder ved operationen'    : 'Age',\n",
    "                    'Procedurekode 1'          : 'SKSCode1',\n",
    "                    'Procedurekode 2'          : 'SKSCode2',\n",
    "                    'Procedurekode 3'          : 'SKSCode3',\n",
    "                    'Procedurekode 4'          : 'SKSCode4',\n",
    "                    'Procedurekode 6'          : 'SKSCode6',\n",
    "                    'euroSCORE II'             : 'euroSCOREII',\n",
    "                    'Dato for mors'            : 'DeathDate'}\n",
    "\n",
    "PATSdf = PATSdf.rename(columns = PATSdfColumnsDic)\n",
    "PATSdf"
   ]
  },
  {
   "cell_type": "code",
   "execution_count": null,
   "metadata": {},
   "outputs": [],
   "source": [
    "len(list(set(PATSdf['CPR'])))"
   ]
  },
  {
   "cell_type": "code",
   "execution_count": null,
   "metadata": {},
   "outputs": [],
   "source": [
    "PATSdf = PATSdf[PATSdf['Age'] > 17].reset_index(drop = True)\n",
    "len(list(set(PATSdf['CPR'])))"
   ]
  },
  {
   "cell_type": "code",
   "execution_count": null,
   "metadata": {},
   "outputs": [],
   "source": [
    "PATSdf = PATSdf.drop_duplicates(subset=['CPR']).reset_index()"
   ]
  },
  {
   "cell_type": "markdown",
   "metadata": {},
   "source": [
    "### Cleaning up SKS codes\n",
    "\n",
    "Check to see if multiple codes appear in a variable"
   ]
  },
  {
   "cell_type": "code",
   "execution_count": null,
   "metadata": {},
   "outputs": [],
   "source": [
    "def sks_cleaner(SKSCode1, SKSCode2, SKSCode3, SKSCode4, SKSCode5,i) :\n",
    "    while isinstance(PATSdf[SKSCode1][i], str) and len(PATSdf[SKSCode1][i]) > 5 :\n",
    "        if pd.isna(PATSdf[SKSCode2][i]) :\n",
    "            PATSdf.loc[i, SKSCode2] = PATSdf[SKSCode1][i][:5]\n",
    "        elif pd.isna(PATSdf[SKSCode3][i]) :\n",
    "            PATSdf.loc[i, SKSCode3] = PATSdf[SKSCode1][i][:5]\n",
    "        elif pd.isna(PATSdf[SKSCode4][i]) :\n",
    "            PATSdf.loc[i, SKSCode4] = PATSdf[SKSCode1][i][:5]\n",
    "        elif pd.isna(PATSdf[SKSCode5][i]) :\n",
    "            PATSdf.loc[i, SKSCode5] = PATSdf[SKSCode1][i][:5]\n",
    "        PATSdf.loc[i, SKSCode1] = PATSdf[SKSCode1][i][6:]\n",
    "\n",
    "\n",
    "for i in range(len(PATSdf)) :\n",
    "    sks_cleaner('SKSCode1', 'SKSCode2', 'SKSCode3', 'SKSCode4', 'SKSCode6', i)\n",
    "    sks_cleaner('SKSCode2', 'SKSCode1', 'SKSCode3', 'SKSCode4', 'SKSCode6', i)\n",
    "    sks_cleaner('SKSCode3', 'SKSCode2', 'SKSCode1', 'SKSCode4', 'SKSCode6', i)\n",
    "    sks_cleaner('SKSCode4', 'SKSCode2', 'SKSCode3', 'SKSCode1', 'SKSCode6', i)\n",
    "    sks_cleaner('SKSCode6', 'SKSCode2', 'SKSCode3', 'SKSCode4', 'SKSCode1', i)\n",
    "\n",
    "#viewMeasurements['Count'][i] = preOpConferenceDF['Measurement'].value_counts()[viewMeasurements['Measurement'][i]]\n"
   ]
  },
  {
   "cell_type": "markdown",
   "metadata": {},
   "source": [
    "### Changing time strings to time objects"
   ]
  },
  {
   "cell_type": "code",
   "execution_count": null,
   "metadata": {},
   "outputs": [],
   "source": [
    "dateFormat = r'%d-%b-%y'\n",
    "locale.setlocale(locale.LC_ALL, 'da_DK')\n",
    "for i in range(len(PATSdf)) :\n",
    "    PATSdf.loc[i, 'ProcedureDate'] = datetime.strptime(PATSdf['ProcedureDate'][i], dateFormat)"
   ]
  },
  {
   "cell_type": "code",
   "execution_count": null,
   "metadata": {},
   "outputs": [],
   "source": [
    "PATSdf"
   ]
  },
  {
   "cell_type": "code",
   "execution_count": null,
   "metadata": {},
   "outputs": [],
   "source": [
    "PATSdf.count()"
   ]
  },
  {
   "cell_type": "markdown",
   "metadata": {},
   "source": [
    "## Grouping SKS codes in PATS"
   ]
  },
  {
   "cell_type": "code",
   "execution_count": null,
   "metadata": {},
   "outputs": [],
   "source": [
    "PATSdf['SKSCode1'] = PATSdf['SKSCode1'].str[:2]\n",
    "PATSdf['SKSCode2'] = PATSdf['SKSCode2'].str[:2]\n",
    "PATSdf['SKSCode3'] = PATSdf['SKSCode3'].str[:2]\n",
    "PATSdf['SKSCode4'] = PATSdf['SKSCode4'].str[:2]\n",
    "PATSdf['SKSCode6'] = PATSdf['SKSCode6'].str[:2]"
   ]
  },
  {
   "cell_type": "code",
   "execution_count": null,
   "metadata": {},
   "outputs": [],
   "source": [
    "PATSsksCount = [PATSdf['SKSCode1'].value_counts(), PATSdf['SKSCode2'].value_counts(), PATSdf['SKSCode3'].value_counts(), PATSdf['SKSCode4'].value_counts(), PATSdf['SKSCode6'].value_counts()]\n",
    "PATSsksCountDF = pd.DataFrame(PATSsksCount)\n",
    "PATSsksCountDF = PATSsksCountDF.fillna(0).astype(int)\n",
    "PATSsksCountDF.to_csv(r'FilteredData\\SKSCodesInPATS.csv')"
   ]
  },
  {
   "cell_type": "markdown",
   "metadata": {},
   "source": [
    "## Cleaning population\n",
    "\n",
    "### Remove those who don't appear in the PATS data set\n",
    "\n",
    "Steps:\n",
    "\n",
    "Remove the ones who aren't in PATS \n",
    "\n",
    "Remove children \n",
    "\n",
    "Remove irrelevant procedures"
   ]
  },
  {
   "cell_type": "code",
   "execution_count": null,
   "metadata": {},
   "outputs": [],
   "source": [
    "#PATScpr =  PATSdf['CPR'].to_list()\n",
    "\n",
    "populationDF = populationDF[populationDF['CPR'].isin(PATSdf['CPR'])]\n",
    "\n",
    "populationDF"
   ]
  },
  {
   "cell_type": "markdown",
   "metadata": {},
   "source": [
    "### Remove the children"
   ]
  },
  {
   "cell_type": "code",
   "execution_count": null,
   "metadata": {},
   "outputs": [],
   "source": [
    "populationDF = populationDF[populationDF['Age'] > 17].reset_index(drop = True)\n",
    "populationDF"
   ]
  },
  {
   "cell_type": "markdown",
   "metadata": {},
   "source": [
    "### Check number of unique patients"
   ]
  },
  {
   "cell_type": "code",
   "execution_count": null,
   "metadata": {},
   "outputs": [],
   "source": [
    "#PopulationCPR =  populationDF['CPR'].to_list\n",
    "len(list(set(populationDF['CPR'])))"
   ]
  },
  {
   "cell_type": "code",
   "execution_count": null,
   "metadata": {},
   "outputs": [],
   "source": [
    "len(list(set(populationDF['CPR'])))"
   ]
  },
  {
   "cell_type": "code",
   "execution_count": null,
   "metadata": {},
   "outputs": [],
   "source": [
    "populationDF.count()"
   ]
  },
  {
   "cell_type": "markdown",
   "metadata": {},
   "source": [
    "### Procedure filter"
   ]
  },
  {
   "cell_type": "code",
   "execution_count": null,
   "metadata": {},
   "outputs": [],
   "source": [
    "SKSFilter = pd.read_csv(\"Procedurekoder_filter_V3.csv\", sep = ';')\n",
    "\n",
    "SKSFilter = SKSFilter.drop(columns = ['Kolonne1', 'cardiac_surgery1'])\n",
    "\n",
    "SKSfilteredOut = SKSFilter[SKSFilter['cardiac_surgery2'] == 'n']\n",
    "SKSFilter = SKSFilter[SKSFilter['cardiac_surgery2'] == 'y']\n",
    "SKSFilter['PATSsks'] = SKSFilter['operation_sks_kode'].str[1:]\n",
    "SKSFilter['PATSsksSuperGroup'] = SKSFilter['operation_sks_kode'].str[1:3]\n",
    "\n",
    "SKSFilter"
   ]
  },
  {
   "cell_type": "code",
   "execution_count": null,
   "metadata": {},
   "outputs": [],
   "source": [
    "SKSFilter"
   ]
  },
  {
   "cell_type": "code",
   "execution_count": null,
   "metadata": {},
   "outputs": [],
   "source": [
    "SKSfilteredOut"
   ]
  },
  {
   "cell_type": "code",
   "execution_count": null,
   "metadata": {},
   "outputs": [],
   "source": [
    "PATSdfFiltered = PATSdf[PATSdf['SKSCode1'].isin(SKSFilter['PATSsksSuperGroup']) | PATSdf['SKSCode2'].isin(SKSFilter['PATSsksSuperGroup']) | PATSdf['SKSCode3'].isin(SKSFilter['PATSsksSuperGroup']) | PATSdf['SKSCode4'].isin(SKSFilter['PATSsksSuperGroup']) | PATSdf['SKSCode6'].isin(SKSFilter['PATSsksSuperGroup'])].reset_index(drop = True)#PATSdf['SKSCode1'].isin(another_df['AnotherColumn']) | df['Column'].isin(yet_another_df['YetAnotherColumn'])\n",
    "len(list(set(PATSdfFiltered['CPR'])))"
   ]
  },
  {
   "cell_type": "markdown",
   "metadata": {},
   "source": [
    "Filtering from PATSFiltered"
   ]
  },
  {
   "cell_type": "code",
   "execution_count": null,
   "metadata": {},
   "outputs": [],
   "source": [
    "populationDFPATSFiltered = PATSdfFiltered[~PATSdfFiltered['CPR'].isin(populationDF['CPR'])].reset_index(drop = True)\n",
    "viewCPR = list(set(populationDFPATSFiltered['CPR']))\n",
    "viewCPRdf= pd.DataFrame(viewCPR)\n",
    "viewCPRdf.to_csv(r'FilteredData\\MissingInPopulation.csv', index = False)"
   ]
  },
  {
   "cell_type": "markdown",
   "metadata": {},
   "source": [
    "#### Filtering out the procedures that are not relevant"
   ]
  },
  {
   "cell_type": "code",
   "execution_count": null,
   "metadata": {},
   "outputs": [],
   "source": [
    "populationDF = populationDF[populationDF['SKSCode'].isin(SKSFilter['operation_sks_kode'])].reset_index(drop = True)\n",
    "\n",
    "populationDF"
   ]
  },
  {
   "cell_type": "code",
   "execution_count": null,
   "metadata": {},
   "outputs": [],
   "source": [
    "len(list(set(populationDF['CPR'])))"
   ]
  },
  {
   "cell_type": "markdown",
   "metadata": {},
   "source": [
    "## Anesthesia event dataset"
   ]
  },
  {
   "cell_type": "code",
   "execution_count": null,
   "metadata": {},
   "outputs": [],
   "source": [
    "anesthesiaEventDF = pd.read_csv(r\"DataCSV\\Anæstesihændelse.csv\", sep = ';')\n",
    "\n",
    "anesthesiaEventDFColumnsDic = {'CPR'                 : 'CPR',\n",
    "                               'Hændelse'            : 'Event',\n",
    "                               'Hændelsestidspunkt'  : 'EventTime'}\n",
    "\n",
    "anesthesiaEventDF = anesthesiaEventDF.rename(columns = anesthesiaEventDFColumnsDic)\n",
    "\n",
    "anesthesiaEventDF = anesthesiaEventDF[anesthesiaEventDF['CPR'].isin(populationDF['CPR'])].reset_index(drop = True)\n",
    "\n",
    "anesthesiaEventDF"
   ]
  },
  {
   "cell_type": "code",
   "execution_count": null,
   "metadata": {},
   "outputs": [],
   "source": [
    "len(list(set(anesthesiaEventDF['CPR'])))"
   ]
  },
  {
   "cell_type": "code",
   "execution_count": null,
   "metadata": {},
   "outputs": [],
   "source": [
    "extraPerson = set(populationDF['CPR']) - set(anesthesiaEventDF['CPR'])\n",
    "extraPerson"
   ]
  },
  {
   "cell_type": "code",
   "execution_count": null,
   "metadata": {},
   "outputs": [],
   "source": [
    "anesthesiaEventDF['Event'].value_counts()"
   ]
  },
  {
   "cell_type": "code",
   "execution_count": null,
   "metadata": {},
   "outputs": [],
   "source": [
    "anesthesiaEventDF.loc[2]"
   ]
  },
  {
   "cell_type": "markdown",
   "metadata": {},
   "source": [
    "### Find the time of each operation"
   ]
  },
  {
   "cell_type": "markdown",
   "metadata": {},
   "source": [
    "Converting the EventTime strings to time objects and then calculate the time of each procedure of each patient from these"
   ]
  },
  {
   "cell_type": "code",
   "execution_count": null,
   "metadata": {},
   "outputs": [],
   "source": [
    "cleanAnesthesiaEventDF = pd.read_csv(r\"Clean_anesthesia_times_Theis.csv\", sep = ';')\n",
    "\n",
    "#cleanAnesthesiaEventDF = cleanAnesthesiaEventDF.drop(columns = ['x1' , 'proceduredato' , 'alder_ved_operationen'])\n",
    "\n",
    "renameDic = {                  'cpr'             : 'CPR',\n",
    "                               'event'           : 'Event',\n",
    "                               'event_time'      : 'EventTime',\n",
    "                               'procedure_date'  : 'ProcedureDate'}\n",
    "\n",
    "cleanAnesthesiaEventDF = cleanAnesthesiaEventDF.rename(columns = renameDic)\n",
    "cleanAnesthesiaEventDF = cleanAnesthesiaEventDF.sort_values('CPR')\n",
    "\n",
    "cleanAnesthesiaEventDF = cleanAnesthesiaEventDF[cleanAnesthesiaEventDF['CPR'].isin(populationDF['CPR'])].reset_index(drop = True)\n",
    "\n",
    "cleanAnesthesiaEventDF"
   ]
  },
  {
   "cell_type": "code",
   "execution_count": null,
   "metadata": {},
   "outputs": [],
   "source": [
    "dateFormat1 = r'%Y-%m-%dT%H:%M:%SZ'\n",
    "cleanAnesthesiaEventDF['EventTime'] = pd.to_datetime(cleanAnesthesiaEventDF['EventTime'], format = dateFormat1)"
   ]
  },
  {
   "cell_type": "code",
   "execution_count": null,
   "metadata": {},
   "outputs": [],
   "source": [
    "firstEventList, lastEventList, startTimeList, endTimeList, timeList = [], [], [], [], []\n",
    "endPriority = ['Stop Data Indsamling' , 'CV Bypass slut' , 'Aorta tang af' , 'Aorta tang på' , 'CV Bypass Start' , 'Induktion']\n",
    "\n",
    "cleanAnesthesiaEventDF = cleanAnesthesiaEventDF.dropna(subset=['CPR'])\n",
    "for cpr, group in cleanAnesthesiaEventDF.groupby('CPR') :\n",
    "    firstProcedure, lastProcedure, endTime = None, None, None\n",
    "    startTime = group.loc[(group['CPR'] == cpr) & (group['Event'] == 'Induktion'), 'EventTime'].iloc[0]\n",
    "    firstProcedure = group.loc[(group['CPR'] == cpr) & (group['Event'] == 'Induktion'), 'Event'].iloc[0]\n",
    "\n",
    "    for lastEvent in endPriority :\n",
    "        lastEvents = group.loc[group['Event'] == lastEvent, 'EventTime']\n",
    "        if not lastEvents.empty :\n",
    "            endTime = lastEvents.iloc[0]\n",
    "            lastProcedure = lastEvent\n",
    "            break\n",
    "    \n",
    "    durationMinutes = (endTime - startTime).total_seconds() / 60\n",
    "    \n",
    "    for i in range(len(group)) :\n",
    "        firstEventList.append(firstProcedure)\n",
    "        lastEventList.append(lastProcedure)\n",
    "        startTimeList.append(startTime)\n",
    "        endTimeList.append(endTime)\n",
    "        timeList.append(durationMinutes)\n",
    "        \n",
    "cleanAnesthesiaEventDF['FirstEvent'] = firstEventList\n",
    "cleanAnesthesiaEventDF['LastEvent'] = lastEventList\n",
    "cleanAnesthesiaEventDF['StartOfProcedure'] = startTimeList\n",
    "cleanAnesthesiaEventDF['EndOfProcedure'] = endTimeList\n",
    "cleanAnesthesiaEventDF['TimeInMinutes'] = timeList\n",
    "#cleanAnesthesiaEventDF = pd.concat([cleanAnesthesiaEventDF, pd.DataFrame(time)])\n"
   ]
  },
  {
   "cell_type": "code",
   "execution_count": null,
   "metadata": {},
   "outputs": [],
   "source": [
    "for i in range(len(cleanAnesthesiaEventDF)) :\n",
    "    if cleanAnesthesiaEventDF['Event'][i] == 'Induktion' and cleanAnesthesiaEventDF['EventTime'][i] != cleanAnesthesiaEventDF['StartOfProcedure'][i] :\n",
    "        print(cleanAnesthesiaEventDF['CPR'][i])"
   ]
  },
  {
   "cell_type": "code",
   "execution_count": null,
   "metadata": {},
   "outputs": [],
   "source": [
    "cleanAnesthesiaEventDF"
   ]
  },
  {
   "cell_type": "code",
   "execution_count": null,
   "metadata": {},
   "outputs": [],
   "source": [
    "print(cleanAnesthesiaEventDF.value_counts('TimeInMinutes'))"
   ]
  },
  {
   "cell_type": "markdown",
   "metadata": {},
   "source": [
    "Saving the procedure dataframe to csv"
   ]
  },
  {
   "cell_type": "code",
   "execution_count": null,
   "metadata": {},
   "outputs": [],
   "source": [
    "cleanAnesthesiaEventDF.to_csv(r'FilteredData\\CleanAnesthesiaTime.csv' , index = False)"
   ]
  },
  {
   "cell_type": "code",
   "execution_count": null,
   "metadata": {},
   "outputs": [],
   "source": [
    "bins = [-float('inf'), 0, 1, 100, 200, 300, 400, 500, 600, 700, 800, 900, 1000, 2000, 3000, float('inf')]\n",
    "\n",
    "bin_labels = ['-','0', '1-100', '101-200', '201-300', '301-400', '401-500', '501-600', \n",
    "              '601-700', '701-800', '801-900', '901-1000', '1001-2000', '2001-3000', '3000+']\n",
    "\n",
    "\n",
    "plt.figure(figsize=(12, 6))\n",
    "hist = pd.cut(cleanAnesthesiaEventDF['TimeInMinutes'], bins=bins, labels=bin_labels, include_lowest=True).value_counts().sort_index().plot(kind='bar')\n",
    "\n",
    "\n",
    "plt.xlabel('Procedure Time Range')\n",
    "plt.ylabel('Frequency')\n",
    "plt.title('Distribution of Procedure Times by Range')\n",
    "plt.xticks(rotation=45) \n",
    "plt.show()"
   ]
  },
  {
   "cell_type": "markdown",
   "metadata": {},
   "source": [
    "## Anesthesia data dataset"
   ]
  },
  {
   "cell_type": "code",
   "execution_count": null,
   "metadata": {},
   "outputs": [],
   "source": [
    "anesthesiaDataDF = pd.read_csv(r\"DataCSV\\Anæstesidata.csv\", sep = ';')\n",
    "anesthesiaDataDF['Målingsdatotid'] = pd.to_datetime(anesthesiaDataDF['Målingsdatotid'])\n",
    "anesthesiaDataDF"
   ]
  },
  {
   "cell_type": "code",
   "execution_count": null,
   "metadata": {},
   "outputs": [],
   "source": [
    "len(list(set(cleanAnesthesiaEventDF['CPR'])))"
   ]
  },
  {
   "cell_type": "code",
   "execution_count": null,
   "metadata": {},
   "outputs": [],
   "source": [
    "anesthesiaDataDF = anesthesiaDataDF[anesthesiaDataDF['CPR'].isin(cleanAnesthesiaEventDF['CPR'])]\n"
   ]
  },
  {
   "cell_type": "code",
   "execution_count": null,
   "metadata": {},
   "outputs": [],
   "source": [
    "len(list(set(anesthesiaDataDF['CPR'])))"
   ]
  },
  {
   "cell_type": "code",
   "execution_count": null,
   "metadata": {},
   "outputs": [],
   "source": [
    "cleanAnesthesiaEventPivotDF = cleanAnesthesiaEventDF.pivot(index='CPR', columns='Event', values='EventTime').reset_index()\n",
    "anesthesiaDataMergedDF = pd.merge(anesthesiaDataDF, cleanAnesthesiaEventPivotDF, on='CPR')"
   ]
  },
  {
   "cell_type": "code",
   "execution_count": null,
   "metadata": {},
   "outputs": [],
   "source": [
    "\"\"\" anesthesiaDataMergedDF['Saturation'] = np.where(anesthesiaDataMergedDF['Saturation'].isna(), anesthesiaDataMergedDF['Saturation'],  # If 'col1' is NaN, take 'col2'\n",
    "                      np.where(anesthesiaDataMergedDF['SpO2'].isna(), anesthesiaDataMergedDF['Saturation'],  # If 'col2' is NaN, keep 'col1'\n",
    "                               np.maximum(anesthesiaDataMergedDF['Saturation'], anesthesiaDataMergedDF['SpO2']))) \"\"\"\n",
    "anesthesiaDataMergedDF['Saturation'] = np.where(anesthesiaDataMergedDF['Saturation'].isna(), anesthesiaDataMergedDF['SpO2'], np.maximum(anesthesiaDataMergedDF['Saturation'], anesthesiaDataMergedDF['SpO2']))\n",
    "anesthesiaDataMergedDF['Saturation'] = anesthesiaDataMergedDF['Saturation'].drop(columns = ['SpO2'])\n"
   ]
  },
  {
   "cell_type": "code",
   "execution_count": null,
   "metadata": {},
   "outputs": [],
   "source": [
    "filter_condition = (anesthesiaDataMergedDF[['ETCO2', 'Saturation', 'Perf. Index']] > 0) & (anesthesiaDataMergedDF[['ETCO2', 'Saturation', 'Perf. Index']] < 300)\n",
    "\n",
    "# Replace values not between 0 and 300 with NaN\n",
    "anesthesiaDataMergedDF[['ETCO2', 'Saturation', 'Perf. Index']] = anesthesiaDataMergedDF[['ETCO2', 'Saturation', 'Perf. Index']].where(filter_condition)\n"
   ]
  },
  {
   "cell_type": "code",
   "execution_count": null,
   "metadata": {},
   "outputs": [],
   "source": [
    "phase1 = anesthesiaDataMergedDF[(anesthesiaDataMergedDF['Målingsdatotid'] >= anesthesiaDataMergedDF['Induktion']) & (anesthesiaDataMergedDF['Målingsdatotid'] < anesthesiaDataMergedDF['Aorta tang på'])]\n",
    "phase2 = anesthesiaDataMergedDF[(anesthesiaDataMergedDF['Målingsdatotid'] >= anesthesiaDataMergedDF['Aorta tang på']) & (anesthesiaDataMergedDF['Målingsdatotid'] < anesthesiaDataMergedDF['Aorta tang af'])]\n",
    "phase3 = anesthesiaDataMergedDF[(anesthesiaDataMergedDF['Målingsdatotid'] >= anesthesiaDataMergedDF['Aorta tang af']) & (anesthesiaDataMergedDF['Målingsdatotid'] <= anesthesiaDataMergedDF['Stop Data Indsamling'])]\n",
    "phase1 = phase1[['CPR' , 'ETCO2' , 'Saturation' , 'Perf. Index' ,'SpO2']]\n",
    "phase2 = phase2[['CPR' , 'Saturation' , 'Perf. Index' ,'SpO2']]\n",
    "# phase2 = phase2[['CPR' , 'ETCO2' , 'Saturation' , 'Perf. Index' ,'SpO2']]\n",
    "phase3 = phase3[['CPR' , 'ETCO2' , 'Saturation' , 'Perf. Index' ,'SpO2']]"
   ]
  },
  {
   "cell_type": "code",
   "execution_count": null,
   "metadata": {},
   "outputs": [],
   "source": [
    "percentiles = [5, 10, 25, 50, 75, 90, 95]\n",
    "def calc_percentiles(group):\n",
    "    return group.quantile([p/100 for p in percentiles]).values"
   ]
  },
  {
   "cell_type": "code",
   "execution_count": null,
   "metadata": {},
   "outputs": [],
   "source": [
    "percentile_data = {}\n",
    "for col in ['ETCO2', 'Saturation', 'Perf. Index']:\n",
    "    percentile_data[col] = phase1.groupby('CPR')[col].apply(lambda x: pd.Series(calc_percentiles(x.dropna()), index=percentiles))\n",
    "phase1DF = pd.concat(percentile_data, axis=1).unstack(level=1).reset_index()\n",
    "phase1DF.columns = ['CPR'] + [f'{col}_p{p}' for col in ['ETCO2', 'Saturation', 'Perf. Index'] for p in percentiles]\n",
    "phase1DF"
   ]
  },
  {
   "cell_type": "code",
   "execution_count": null,
   "metadata": {},
   "outputs": [],
   "source": [
    "percentile_data = {}\n",
    "for col in ['Saturation', 'Perf. Index']:\n",
    "    percentile_data[col] = phase2.groupby('CPR')[col].apply(lambda x: pd.Series(calc_percentiles(x.dropna()), index=percentiles))\n",
    "phase2DF = pd.concat(percentile_data, axis=1).unstack(level=1).reset_index()\n",
    "phase2DF.columns = ['CPR'] + [f'{col}_p{p}' for col in ['Saturation', 'Perf. Index'] for p in percentiles]\n",
    "phase2DF"
   ]
  },
  {
   "cell_type": "code",
   "execution_count": null,
   "metadata": {},
   "outputs": [],
   "source": [
    "len(list(set(phase2.dropna()['CPR'])))"
   ]
  },
  {
   "cell_type": "code",
   "execution_count": null,
   "metadata": {},
   "outputs": [],
   "source": [
    "percentile_data = {}\n",
    "for col in ['ETCO2', 'Saturation', 'Perf. Index']:\n",
    "    percentile_data[col] = phase3.groupby('CPR')[col].apply(lambda x: pd.Series(calc_percentiles(x.dropna()), index=percentiles))\n",
    "phase3DF = pd.concat(percentile_data, axis=1).unstack(level=1).reset_index()\n",
    "phase3DF.columns = ['CPR'] + [f'{col}_p{p}' for col in ['ETCO2', 'Saturation', 'Perf. Index'] for p in percentiles]\n",
    "phase3DF"
   ]
  },
  {
   "cell_type": "code",
   "execution_count": null,
   "metadata": {},
   "outputs": [],
   "source": [
    "phase1DF.to_csv(r'FilteredData/phase1Anesthesia.csv' , index = False)\n",
    "phase2DF.to_csv(r'FilteredData/phase2Anesthesia.csv' , index = False)\n",
    "phase3DF.to_csv(r'FilteredData/phase3Anesthesia.csv' , index = False)"
   ]
  },
  {
   "cell_type": "markdown",
   "metadata": {},
   "source": [
    "## Preoperation conference "
   ]
  },
  {
   "cell_type": "markdown",
   "metadata": {},
   "source": [
    "Seems like this patient is missing from anesthesiaEvent"
   ]
  },
  {
   "cell_type": "code",
   "execution_count": null,
   "metadata": {},
   "outputs": [],
   "source": [
    "#Had some problems reading the file because of the encoding, so chardet is used to find the encoding\n",
    "\n",
    "\n",
    "\n",
    "file = r\"DataCSV\\konference_notat.csv\"\n",
    "with open(file, 'rb') as rawdata:\n",
    "    result = chardet.detect(rawdata.read(100000))\n",
    "result"
   ]
  },
  {
   "cell_type": "code",
   "execution_count": null,
   "metadata": {},
   "outputs": [],
   "source": [
    "preOpConferenceDF = pd.read_csv(file, sep = ';', encoding = 'ISO-8859-1')\n",
    "\n",
    "preOpConferenceDFDic = {'CPR'              : 'CPR',\n",
    "                        'Måling'           : 'Measurement',\n",
    "                        'Måling ID'        : 'MeasurementID',\n",
    "                        'Målingstidspunkt' : 'TimeOfMeasurement',\n",
    "                        'Værdi'            : 'Value'}\n",
    "\n",
    "preOpConferenceDF = preOpConferenceDF.rename(columns = preOpConferenceDFDic)\n",
    "\n",
    "preOpConferenceDF = preOpConferenceDF[preOpConferenceDF['CPR'].isin(populationDF['CPR'])].reset_index(drop = True)\n",
    "\n",
    "preOpConferenceDF"
   ]
  },
  {
   "cell_type": "code",
   "execution_count": null,
   "metadata": {},
   "outputs": [],
   "source": [
    "weightCount = preOpConferenceDF.groupby('CPR').filter(lambda group: (group['Measurement'] == 'Vægt').any())['CPR'].nunique()\n",
    "weightCount"
   ]
  },
  {
   "cell_type": "code",
   "execution_count": null,
   "metadata": {},
   "outputs": [],
   "source": [
    "preOpConferenceDF['Measurement'].value_counts().to_csv(r'FilteredData/Conference Measurement Count.csv')"
   ]
  },
  {
   "cell_type": "markdown",
   "metadata": {},
   "source": [
    "Creating table of each measurement with its associated count"
   ]
  },
  {
   "cell_type": "code",
   "execution_count": null,
   "metadata": {},
   "outputs": [],
   "source": [
    "' TODO: need to do more work on preOpConference data before we can apply filter'\n",
    "viewMeasurements = pd.DataFrame({'Measurement' : list(set(preOpConferenceDF['Measurement'])), 'Count' : list(set(preOpConferenceDF['Measurement']))})\n",
    "\n",
    "viewMeasurements['Count'] = viewMeasurements['Measurement'].map(preOpConferenceDF['Measurement'].value_counts())\n",
    "viewMeasurements = viewMeasurements.sort_values('Count' , ascending = False)\n",
    "viewMeasurements.to_csv(r'FilteredData\\UniqueConferenceMeasurements.csv', index = False)"
   ]
  },
  {
   "cell_type": "code",
   "execution_count": null,
   "metadata": {},
   "outputs": [],
   "source": [
    "preOpConferenceDF['Measurement'].unique()"
   ]
  },
  {
   "cell_type": "markdown",
   "metadata": {},
   "source": [
    "Checking the unique measurement types"
   ]
  },
  {
   "cell_type": "code",
   "execution_count": null,
   "metadata": {},
   "outputs": [],
   "source": [
    "len(list(set(preOpConferenceDF['Measurement'])))"
   ]
  },
  {
   "cell_type": "code",
   "execution_count": null,
   "metadata": {},
   "outputs": [],
   "source": [
    "preOpConferenceDF.count()"
   ]
  },
  {
   "cell_type": "markdown",
   "metadata": {},
   "source": [
    "## Alcohol and smoking data\n",
    "\n",
    "Need to do some heavy work to make this work since we don't have this data timed"
   ]
  },
  {
   "cell_type": "code",
   "execution_count": null,
   "metadata": {},
   "outputs": [],
   "source": [
    "alcAndSmokeDF = pd.read_csv(r'DataCSV\\Alkohol og rygning.csv', sep = ';')\n",
    "\n",
    "alcAndSmokeDic = {'CPR'                  : 'CPR',\n",
    "                  'Genstande per uge'    : 'AlcoholPerWeek',\n",
    "                  'Rygning'              : 'Smoking'}\n",
    "\n",
    "alcAndSmokeDF = alcAndSmokeDF.rename(columns = alcAndSmokeDic)\n",
    "\n",
    "alcAndSmokeDF = alcAndSmokeDF[alcAndSmokeDF['CPR'].isin(populationDF['CPR'])].reset_index(drop = True)\n",
    "\n",
    "alcAndSmokeDF"
   ]
  },
  {
   "cell_type": "code",
   "execution_count": null,
   "metadata": {},
   "outputs": [],
   "source": [
    "alcAndSmokeDF.count()"
   ]
  },
  {
   "cell_type": "code",
   "execution_count": null,
   "metadata": {},
   "outputs": [],
   "source": [
    "alcAndSmokeDF['Smoking'].value_counts()"
   ]
  },
  {
   "cell_type": "code",
   "execution_count": null,
   "metadata": {},
   "outputs": [],
   "source": [
    "alcPerWeek = alcAndSmokeDF['AlcoholPerWeek'].value_counts()"
   ]
  },
  {
   "cell_type": "code",
   "execution_count": null,
   "metadata": {},
   "outputs": [],
   "source": [
    "for row in range(len(alcAndSmokeDF)) : \n",
    "    if isinstance(alcAndSmokeDF['AlcoholPerWeek'][row], str) and '-' in alcAndSmokeDF['AlcoholPerWeek'][row] :\n",
    "        alcPerWeek = alcAndSmokeDF['AlcoholPerWeek'][row].split('-')\n",
    "        totalAlcoholPerWeek = 0\n",
    "        for i in range(len(alcPerWeek)) :\n",
    "            totalAlcoholPerWeek += int(alcPerWeek[i])\n",
    "        alcAndSmokeDF.loc[row, 'AlcoholPerWeek'] = totalAlcoholPerWeek/len(alcPerWeek)\n",
    "#alcAndSmokeDF['AlcoholPerWeek'] = alcAndSmokeDF['AlcoholPerWeek'].fillna(0).astype(int)"
   ]
  },
  {
   "cell_type": "code",
   "execution_count": null,
   "metadata": {},
   "outputs": [],
   "source": [
    "''' \n",
    "Aldrig vurderet = NaN\n",
    "Ukendt = NaN\n",
    "Aldrig = 0\n",
    "Udsat for passiv rygning - aldrig været ryger = 0\n",
    "Lejlighedsvis ryger = 1\n",
    "Nogle dage = 1\n",
    "Hver dag = 1\n",
    "Ryger, aktuel status ukendt = 1\n",
    "Storryger = 1\n",
    "Tidligere = 2\n",
    "''';\n",
    "\n",
    "dict = {'Aldrig vurderet'                               : -1,\n",
    "        'Ukendt'                                        : -1,\n",
    "        'Aldrig'                                        : 0,\n",
    "        'Udsat for passiv rygning - aldrig været ryger' : 0,\n",
    "        'Lejlighedsvis ryger'                           : 1,\n",
    "        'Nogle dage'                                    : 1,\n",
    "        'Hver dag'                                      : 1,\n",
    "        'Ryger, aktuel status ukendt'                   : 1,\n",
    "        'Storryger'                                     : 1,\n",
    "        'Tidligere'                                     : 2\n",
    "        }\n",
    "alcAndSmokeDF = alcAndSmokeDF.replace({'Smoking' : dict})\n",
    "alcAndSmokeDF"
   ]
  },
  {
   "cell_type": "markdown",
   "metadata": {},
   "source": [
    "## Blood samples"
   ]
  },
  {
   "cell_type": "code",
   "execution_count": null,
   "metadata": {},
   "outputs": [],
   "source": [
    "bloodSamplesDF = pd.read_csv(r'DataCSV\\Lab svar.csv', sep = ';')\n",
    "bloodSamplesDF\n"
   ]
  },
  {
   "cell_type": "code",
   "execution_count": null,
   "metadata": {},
   "outputs": [],
   "source": [
    "bloodSamplesNames = [ 'CPR', 'OrderName', 'ResultTime', 'ResultValue']\n",
    "bloodSamples2ndDF = pd.read_csv(r'DataCSV\\INC4924474 - Labsvar.csv', sep = ';', names = bloodSamplesNames, header = None)\n",
    "bloodSamples2ndDF"
   ]
  },
  {
   "cell_type": "code",
   "execution_count": null,
   "metadata": {},
   "outputs": [],
   "source": [
    "bloodSamples2ndDF = bloodSamples2ndDF[bloodSamples2ndDF['CPR'].isin(PATSdf['CPR'])].reset_index(drop = True)"
   ]
  },
  {
   "cell_type": "code",
   "execution_count": null,
   "metadata": {},
   "outputs": [],
   "source": [
    "len(list(set(bloodSamples2ndDF[bloodSamples2ndDF['CPR'].isin(PATSdf['CPR'])])))"
   ]
  },
  {
   "cell_type": "code",
   "execution_count": null,
   "metadata": {},
   "outputs": [],
   "source": [
    "\n",
    "bloodSamplesDic = {'cpr'              : 'CPR',\n",
    "                   'Best./ord. navn'  : 'OrderName',\n",
    "                   'Resultatdatotid'  : 'ResultTime',\n",
    "                   'Resultatværdi'    : 'ResultValue'}\n",
    "\n",
    "bloodSamplesDF = bloodSamplesDF.rename(columns = bloodSamplesDic)\n",
    "\n",
    "bloodSamplesDF = bloodSamplesDF[bloodSamplesDF['CPR'].isin(PATSdf['CPR'])].reset_index(drop = True)\n",
    "\n",
    "bloodSamplesDF"
   ]
  },
  {
   "cell_type": "code",
   "execution_count": null,
   "metadata": {},
   "outputs": [],
   "source": [
    "bloodSamplesDF = pd.concat([bloodSamples2ndDF, bloodSamplesDF], ignore_index=True)\n",
    "bloodSamplesDF = bloodSamplesDF.sort_values('CPR')\n",
    "bloodSamplesDF"
   ]
  },
  {
   "cell_type": "code",
   "execution_count": null,
   "metadata": {},
   "outputs": [],
   "source": [
    "len(list(set(bloodSamplesDF['CPR'])))"
   ]
  },
  {
   "cell_type": "code",
   "execution_count": null,
   "metadata": {},
   "outputs": [],
   "source": [
    "bloodSamplesDF.count()"
   ]
  },
  {
   "cell_type": "code",
   "execution_count": null,
   "metadata": {},
   "outputs": [],
   "source": [
    "bloodSamplesDF[bloodSamplesDF.isnull().any(axis=1)]"
   ]
  },
  {
   "cell_type": "code",
   "execution_count": null,
   "metadata": {},
   "outputs": [],
   "source": [
    "bloodSamplesDF = bloodSamplesDF.dropna()\n",
    "bloodSamplesDF = bloodSamplesDF[bloodSamplesDF.ResultValue != 'Ej målt']"
   ]
  },
  {
   "cell_type": "code",
   "execution_count": null,
   "metadata": {},
   "outputs": [],
   "source": [
    "len(list(set(bloodSamplesDF['CPR'])))"
   ]
  },
  {
   "cell_type": "code",
   "execution_count": null,
   "metadata": {},
   "outputs": [],
   "source": [
    "viewBloodResults = pd.DataFrame({'ResultValue' : list(set(bloodSamplesDF['ResultValue'])), 'Count' : list(set(bloodSamplesDF['ResultValue']))})\n",
    "\n",
    "\n",
    "viewBloodResults['Count'] = viewBloodResults['ResultValue'].map(bloodSamplesDF['ResultValue'].value_counts())\n",
    "viewBloodResults = viewBloodResults.sort_values('Count' , ascending = False)"
   ]
  },
  {
   "cell_type": "code",
   "execution_count": null,
   "metadata": {},
   "outputs": [],
   "source": [
    "viewBloodOrders = pd.DataFrame({'OrderName' : list(set(bloodSamplesDF['OrderName'])), 'Count' : list(set(bloodSamplesDF['OrderName']))})\n",
    "\n",
    "\n",
    "viewBloodOrders['Count'] = viewBloodOrders['OrderName'].map(bloodSamplesDF['OrderName'].value_counts())\n",
    "viewBloodOrders = viewBloodOrders.sort_values('Count' , ascending = False)\n",
    "#viewBloodOrders.to_csv(r'FilteredData\\BloodSampleOrder.csv', index = False)"
   ]
  },
  {
   "cell_type": "markdown",
   "metadata": {},
   "source": [
    "## Diagnoses of patients"
   ]
  },
  {
   "cell_type": "code",
   "execution_count": null,
   "metadata": {},
   "outputs": [],
   "source": [
    "diagnosesDF = pd.read_csv(r'DataCSV\\Problemliste.csv', sep = ';')\n",
    "\n",
    "diagnosesDic = {'CPR'           : 'CPR',\n",
    "                'Dato'          : 'Date',\n",
    "                'Diagnose SKS'  : 'DiagnosisSKS',\n",
    "                'Diagnose navn' : 'DiagnosisName'}\n",
    "\n",
    "diagnosesDF = diagnosesDF.rename(columns = diagnosesDic)\n",
    "\n",
    "diagnosesDF = diagnosesDF[diagnosesDF['CPR'].isin(populationDF['CPR'])].reset_index(drop = True)\n",
    "\n",
    "diagnosesDF"
   ]
  },
  {
   "cell_type": "code",
   "execution_count": null,
   "metadata": {},
   "outputs": [],
   "source": [
    "diagnosesDF.count()"
   ]
  },
  {
   "cell_type": "markdown",
   "metadata": {},
   "source": [
    "## Vitals dataset"
   ]
  },
  {
   "cell_type": "code",
   "execution_count": null,
   "metadata": {},
   "outputs": [],
   "source": [
    "vitalsDF = pd.read_csv(r'DataCSV\\cirk. vitale værdier.csv', sep = ';')\n",
    "\n",
    "vitalsDF"
   ]
  },
  {
   "cell_type": "code",
   "execution_count": null,
   "metadata": {},
   "outputs": [],
   "source": [
    "\n",
    "vitalsDic = {'CPR'                          : 'CPR',\n",
    "            'Målingsdatotid'                : 'TimeOfMeasurement',\n",
    "            'Saturation'\t                : 'BloodSaturation',\n",
    "            'Blodtryk'\t                    : 'BloodPressure',\n",
    "            'MAP'                           : 'BloodPressureMean',\n",
    "            'Invasivt BT - ABP (sys/dia)'   : 'ArterialBloodPressure',\n",
    "            'Invasivt BT - ABP (mean)'      : 'ArterialBPMean',\n",
    "            'CVP (mean)'                    : 'CentralVenousPressureMean',\n",
    "            'Respirationsfrekvens'          : 'RespirationFreq',\n",
    "            'Blæretemperatur'               : 'TemperatureBladder',\n",
    "            'Temp.'                         : 'Temperature',\n",
    "            'Blodtemperatur'                : 'TemperatureInFahrenheit',\n",
    "            'Temp (in Celsius)'             : 'TemperatureInCelsius',\n",
    "            'Puls (fra SAT-måler)'          : 'PulseSAT',\n",
    "            'Puls'                          : 'Pulse',\n",
    "            'PAP (middel)'\t                : 'PAPMiddle',\n",
    "            'PAP (sys/dia)'                 : 'PAPsysDia'}\n",
    "\n",
    "vitalsDF = vitalsDF.rename(columns = vitalsDic)\n",
    "\n",
    "vitalsDF = vitalsDF[vitalsDF['CPR'].isin(populationDF['CPR'])].reset_index(drop = True)\n",
    "\n",
    "vitalsDF"
   ]
  },
  {
   "cell_type": "code",
   "execution_count": null,
   "metadata": {},
   "outputs": [],
   "source": [
    "len(list(set(vitalsDF['CPR'])))"
   ]
  },
  {
   "cell_type": "code",
   "execution_count": null,
   "metadata": {},
   "outputs": [],
   "source": [
    "vitalsDF.count()"
   ]
  },
  {
   "cell_type": "markdown",
   "metadata": {},
   "source": [
    "### Merging columns"
   ]
  },
  {
   "cell_type": "code",
   "execution_count": null,
   "metadata": {},
   "outputs": [],
   "source": [
    "vitalsDF['TemperatureInFahrenheit'] = (vitalsDF['TemperatureInFahrenheit']-32)*5/9\n",
    "vitalsDF['TemperatureInFahrenheit'] = vitalsDF['TemperatureInFahrenheit'].round(1)\n",
    "vitalsDF['TemperatureInCelsius'] = vitalsDF['TemperatureInCelsius'].fillna(vitalsDF['TemperatureInFahrenheit'])\n",
    "vitalsDF['TemperatureInCelsius']\n"
   ]
  },
  {
   "cell_type": "code",
   "execution_count": null,
   "metadata": {},
   "outputs": [],
   "source": [
    "vitalsDF['PulseSAT'] = vitalsDF['PulseSAT'].fillna(vitalsDF['Pulse'])\n",
    "vitalsDF['Pulse'] = vitalsDF['PulseSAT']"
   ]
  },
  {
   "cell_type": "code",
   "execution_count": null,
   "metadata": {},
   "outputs": [],
   "source": [
    "vitalsDF['BloodPressure'] = vitalsDF['BloodPressure'].fillna(vitalsDF['ArterialBloodPressure'])\n",
    "vitalsDF['ArterialBloodPressure'] = vitalsDF['BloodPressure']"
   ]
  },
  {
   "cell_type": "code",
   "execution_count": null,
   "metadata": {},
   "outputs": [],
   "source": [
    "vitalsDF['BloodPressureMean'] = vitalsDF['BloodPressureMean'].fillna(vitalsDF['ArterialBPMean'])\n",
    "vitalsDF['ArterialBPMean'] = vitalsDF['BloodPressureMean']"
   ]
  },
  {
   "cell_type": "code",
   "execution_count": null,
   "metadata": {},
   "outputs": [],
   "source": [
    "for i in range(len(vitalsDF)) :\n",
    "    if pd.notna(vitalsDF['ArterialBloodPressure'][i]) and pd.isna(vitalsDF['ArterialBPMean'][i]):\n",
    "        numbers = vitalsDF['ArterialBloodPressure'][i].split('/')\n",
    "        if not int(numbers[1]) - int(numbers[0]) == 0 :\n",
    "            vitalsDF.loc[i, 'ArterialBPMean'] = round(int(numbers[1]) + (int(numbers[0]) - int(numbers[1]))/3)\n",
    "        else :\n",
    "            vitalsDF.loc[i, 'ArterialBPMean'] = 0\n"
   ]
  },
  {
   "cell_type": "code",
   "execution_count": null,
   "metadata": {},
   "outputs": [],
   "source": [
    "for i in range(len(vitalsDF)) :\n",
    "    if pd.notna(vitalsDF['PAPsysDia'][i]) and pd.isna(vitalsDF['PAPMiddle'][i]):\n",
    "        numbers = vitalsDF['PAPsysDia'][i].split('/')\n",
    "        if not int(numbers[1]) - int(numbers[0]) == 0 :\n",
    "            vitalsDF.loc[i, 'PAPMiddle'] = round(int(numbers[1]) + (int(numbers[0]) - int(numbers[1]))/3)\n",
    "        else :\n",
    "            vitalsDF.loc[i, 'PAPMiddle'] = 0"
   ]
  },
  {
   "cell_type": "code",
   "execution_count": null,
   "metadata": {},
   "outputs": [],
   "source": [
    "vitalsDF = vitalsDF.drop(columns = ['RespirationFreq' , 'TemperatureBladder' , 'Temperature' , 'TemperatureInFahrenheit', \n",
    "                                    'PulseSAT', 'BloodPressure', 'BloodPressureMean' , 'ArterialBloodPressure' , 'PAPsysDia'])\n",
    "vitalsDF.count()"
   ]
  },
  {
   "cell_type": "code",
   "execution_count": null,
   "metadata": {},
   "outputs": [],
   "source": [
    "dateFormat1 = r'%Y-%m-%d %H:%M:%S.000'\n",
    "vitalsDF['TimeOfMeasurement'] = pd.to_datetime(vitalsDF['TimeOfMeasurement'], format = dateFormat1)"
   ]
  },
  {
   "cell_type": "code",
   "execution_count": null,
   "metadata": {},
   "outputs": [],
   "source": [
    "for cpr in cleanAnesthesiaEventDF['CPR'].unique() :\n",
    "\n",
    "    patientAnesthesia = cleanAnesthesiaEventDF[cleanAnesthesiaEventDF['CPR'] == cpr]\n",
    "\n",
    "    patientVitals = vitalsDF[vitalsDF['CPR'] == cpr]\n",
    "    #print(patientAnesthesia)\n",
    "    induktionTime = patientAnesthesia[patientAnesthesia['Event'] == 'Induktion']['EventTime'].reset_index(drop = True)\n",
    "    clampOnTime = patientAnesthesia[patientAnesthesia['Event'] == 'Aorta tang på']['EventTime'].reset_index(drop = True)\n",
    "    clampOffTime = patientAnesthesia[patientAnesthesia['Event'] == 'Aorta tang af']['EventTime'].reset_index(drop = True)\n",
    "    stopDataTime = patientAnesthesia[patientAnesthesia['Event'] == 'Stop Data Indsamling']['EventTime'].reset_index(drop = True)\n",
    "    patientInduktionTimes = patientVitals[(patientVitals['TimeOfMeasurement'] > induktionTime.iloc[0]) & (patientVitals['TimeOfMeasurement'] < clampOnTime.iloc[0])]['TimeOfMeasurement']\n",
    "    #print(induktionTime)\n",
    "    print(len(patientInduktionTimes))\n",
    "    break\n",
    "\n"
   ]
  },
  {
   "cell_type": "markdown",
   "metadata": {},
   "source": [
    "## Hemodynamic data"
   ]
  },
  {
   "cell_type": "code",
   "execution_count": null,
   "metadata": {},
   "outputs": [],
   "source": [
    "hemodynamicDF = pd.read_csv(r'FilteredData\\HemodynamicMeasuresRAW.csv')\n",
    "hemodynamicDF"
   ]
  },
  {
   "cell_type": "code",
   "execution_count": null,
   "metadata": {},
   "outputs": [],
   "source": [
    "hemodynamicBP = hemodynamicDF[(hemodynamicDF['Målingsnavn'].str[:3] == 'PAP') | (hemodynamicDF['Målingsnavn'].str[:3] == 'LAP') | (hemodynamicDF['Målingsnavn'].str[:3] == 'MAP')]"
   ]
  },
  {
   "cell_type": "code",
   "execution_count": null,
   "metadata": {},
   "outputs": [],
   "source": [
    "hemodynamicBP"
   ]
  },
  {
   "cell_type": "code",
   "execution_count": null,
   "metadata": {},
   "outputs": [],
   "source": [
    "hemodynamicBP['Målingsnavn'].value_counts()"
   ]
  },
  {
   "cell_type": "code",
   "execution_count": null,
   "metadata": {},
   "outputs": [],
   "source": [
    "def sysDiaSplit(value) :\n",
    "    if isinstance(value, str) and '/' in value:\n",
    "        sys, dia = value.split('/')\n",
    "        print(round(int(dia)/3 + 2*int(sys)/3))\n",
    "        if False :\n",
    "            return round(int(dia)/3 + 2*int(sys)/3)\n",
    "    #return value\n",
    "\n",
    "hemodynamicBP['Værdi'] = hemodynamicBP.apply(lambda row: sysDiaSplit(row['Værdi']) if 'PAP' in row['Målingsnavn'] else row['Værdi'], axis=1)\n",
    "\n",
    "hemodynamicBP['Målingsnavn'] = hemodynamicBP['Målingsnavn'].replace(['PAP', 'PAP (sys/dia)', 'PAP (middel)'], 'PAP (mean)')\n",
    "\n",
    "hemodynamicBP['Værdi'] = hemodynamicBP.apply(lambda row: sysDiaSplit(row['Værdi']) if 'PAP' in row['Målingsnavn'] else row['Værdi'], axis=1)\n",
    "\n",
    "hemodynamicBP['Målingsnavn'] = hemodynamicBP['Målingsnavn'].replace(['LAP', 'LAP (sys/dia)', 'LAP (middel)'], 'LAP (mean)')\n",
    "\n",
    "hemodynamicBP['Målingsnavn'].value_counts()"
   ]
  },
  {
   "cell_type": "code",
   "execution_count": null,
   "metadata": {},
   "outputs": [],
   "source": [
    "hemodynamicMeasures = hemodynamicDF['Målingsnavn'].value_counts()"
   ]
  },
  {
   "cell_type": "code",
   "execution_count": null,
   "metadata": {},
   "outputs": [],
   "source": [
    "hemodynamicBP.to_csv(r'FilteredData\\HemodynamicMeasuresCount.csv')"
   ]
  },
  {
   "cell_type": "markdown",
   "metadata": {},
   "source": [
    "## Ekkofiler"
   ]
  },
  {
   "cell_type": "markdown",
   "metadata": {},
   "source": [
    "### Ekkokardiografi.csv"
   ]
  },
  {
   "cell_type": "code",
   "execution_count": null,
   "metadata": {},
   "outputs": [],
   "source": [
    "\"\"\" echocardiographyDF = pd.read_csv(r'DataCSV\\Ekkokardiografi.csv', sep = ';') \"\"\""
   ]
  },
  {
   "cell_type": "code",
   "execution_count": null,
   "metadata": {},
   "outputs": [],
   "source": [
    "\"\"\" echocardiographyDF = echocardiographyDF[echocardiographyDF['CPR'].isin(populationDF['CPR'])]\n",
    "len(list(set(echocardiographyDF['CPR']))) \"\"\""
   ]
  },
  {
   "cell_type": "code",
   "execution_count": null,
   "metadata": {},
   "outputs": [],
   "source": [
    "\"\"\" echocardiographyDF \"\"\""
   ]
  },
  {
   "cell_type": "code",
   "execution_count": null,
   "metadata": {},
   "outputs": [],
   "source": [
    "\"\"\" echocardiographyDF.count() \"\"\""
   ]
  },
  {
   "cell_type": "markdown",
   "metadata": {},
   "source": [
    "### Viewpoint.csv"
   ]
  },
  {
   "cell_type": "code",
   "execution_count": null,
   "metadata": {},
   "outputs": [],
   "source": [
    "\"\"\" viewpointDF = pd.read_csv(r'DataCSV\\viewpoint.csv')\n",
    "viewpointDF = viewpointDF[viewpointDF['CPR.nummer']]\n",
    "viewpointDF \"\"\""
   ]
  },
  {
   "cell_type": "code",
   "execution_count": null,
   "metadata": {},
   "outputs": [],
   "source": [
    "\"\"\" len(list(set(viewpointDF['CPR.nummer']))) \"\"\""
   ]
  },
  {
   "cell_type": "code",
   "execution_count": null,
   "metadata": {},
   "outputs": [],
   "source": [
    "\"\"\" tester = viewpointDF[viewpointDF['FD'] == '30-12-1899']\n",
    "\n",
    "len(list(set(tester['CPR.nummer']))) \"\"\""
   ]
  },
  {
   "cell_type": "markdown",
   "metadata": {},
   "source": [
    "## Saving the new data"
   ]
  },
  {
   "cell_type": "markdown",
   "metadata": {},
   "source": [
    "### Population"
   ]
  },
  {
   "cell_type": "code",
   "execution_count": null,
   "metadata": {},
   "outputs": [],
   "source": [
    "PATSdf = PATSdf[PATSdf['CPR'].isin(anesthesiaEventDF['CPR'])]\n",
    "populationDF = populationDF[populationDF['CPR'].isin(PATSdf['CPR'])]\n",
    "len(list(set(populationDF['CPR'])))"
   ]
  },
  {
   "cell_type": "code",
   "execution_count": null,
   "metadata": {},
   "outputs": [],
   "source": [
    "populationDF.to_csv(r'FilteredData\\Population.csv', index = False)"
   ]
  },
  {
   "cell_type": "markdown",
   "metadata": {},
   "source": [
    "### SKS filter"
   ]
  },
  {
   "cell_type": "code",
   "execution_count": null,
   "metadata": {},
   "outputs": [],
   "source": [
    "SKSFilter.to_csv(r'FilteredData\\SKS Valid.csv' , index = False)\n",
    "SKSfilteredOut.to_csv(r'FilteredData\\SKS Invalid.csv' , index = False)"
   ]
  },
  {
   "cell_type": "markdown",
   "metadata": {},
   "source": [
    "### PATS"
   ]
  },
  {
   "cell_type": "code",
   "execution_count": null,
   "metadata": {},
   "outputs": [],
   "source": [
    "len(list(set(PATSdf['CPR'])))"
   ]
  },
  {
   "cell_type": "code",
   "execution_count": null,
   "metadata": {},
   "outputs": [],
   "source": [
    "PATSdf.to_csv(r'FilteredData\\PATS.csv')"
   ]
  },
  {
   "cell_type": "markdown",
   "metadata": {},
   "source": [
    "### Anesthesia data"
   ]
  },
  {
   "cell_type": "code",
   "execution_count": null,
   "metadata": {},
   "outputs": [],
   "source": [
    "anesthesiaEventDF.to_csv(r'FilteredData\\Anesthesia Events.csv')"
   ]
  },
  {
   "cell_type": "markdown",
   "metadata": {},
   "source": [
    "### Preoperation conference data"
   ]
  },
  {
   "cell_type": "code",
   "execution_count": null,
   "metadata": {},
   "outputs": [],
   "source": [
    "preOpConferenceDF.to_csv(r'FilteredData\\Preoperation Conference.csv', index = False)"
   ]
  },
  {
   "cell_type": "markdown",
   "metadata": {},
   "source": [
    "### Alcohol and smoking"
   ]
  },
  {
   "cell_type": "code",
   "execution_count": null,
   "metadata": {},
   "outputs": [],
   "source": [
    "alcAndSmokeDF.to_csv(r'FilteredData\\Alcohol and Smoking.csv')"
   ]
  },
  {
   "cell_type": "markdown",
   "metadata": {},
   "source": [
    "### Blood samples"
   ]
  },
  {
   "cell_type": "code",
   "execution_count": null,
   "metadata": {},
   "outputs": [],
   "source": [
    "bloodSamplesDF.to_csv(r'FilteredData\\Blood Samples.csv', index = False)"
   ]
  },
  {
   "cell_type": "markdown",
   "metadata": {},
   "source": [
    "### Diagnoses of patients"
   ]
  },
  {
   "cell_type": "code",
   "execution_count": null,
   "metadata": {},
   "outputs": [],
   "source": [
    "diagnosesDF.to_csv(r'FilteredData\\Diagnoses of Patients.csv' , index = False)"
   ]
  },
  {
   "cell_type": "markdown",
   "metadata": {},
   "source": [
    "### Vitals"
   ]
  },
  {
   "cell_type": "code",
   "execution_count": null,
   "metadata": {},
   "outputs": [],
   "source": [
    "vitalsDF.to_csv(r'FilteredData\\Vitals.csv', index = False)"
   ]
  },
  {
   "cell_type": "markdown",
   "metadata": {},
   "source": [
    "### Anonymous versions of all the files"
   ]
  },
  {
   "cell_type": "code",
   "execution_count": null,
   "metadata": {},
   "outputs": [],
   "source": [
    "vitalsCensored = vitalsDF.drop(columns = ['CPR'])\n",
    "diagnosesCensored = diagnosesDF.drop(columns = ['CPR'])\n",
    "bloodSamplesCensored = bloodSamplesDF.drop(columns = ['CPR'])\n",
    "alcAndSmokeCensored = alcAndSmokeDF.drop(columns = ['CPR'])\n",
    "preOpConferenceCensored = preOpConferenceDF.drop(columns = ['CPR'])\n",
    "anesthesiaEventCensored = anesthesiaEventDF.drop(columns = ['CPR'])\n",
    "PATSCensored = PATSdf.drop(columns = ['CPR'])\n",
    "populationCensored = populationDF.drop(columns = ['CPR'])\n",
    "hemodynamicBPCensored = hemodynamicBP.drop(columns = ['cpr'])\n",
    "cleanAnesthesiaEventCensored = cleanAnesthesiaEventDF.drop(columns = ['CPR'])"
   ]
  },
  {
   "cell_type": "code",
   "execution_count": null,
   "metadata": {},
   "outputs": [],
   "source": [
    "vitalsCensored.to_csv(r'DataAnonymous\\Vitals.csv')\n",
    "diagnosesCensored.to_csv(r'DataAnonymous\\Diagnoses of Patients.csv')\n",
    "bloodSamplesCensored.to_csv(r'DataAnonymous\\Blood Samples.csv')\n",
    "alcAndSmokeCensored.to_csv(r'DataAnonymous\\Alcohol and smoking.csv')\n",
    "preOpConferenceCensored.to_csv(r'DataAnonymous\\Conference data.csv')\n",
    "#anesthesiaEventCensored.to_csv(r'DataAnonymous\\Anesthesia Events.csv')\n",
    "PATSCensored.to_csv(r'DataAnonymous\\PATS.csv')\n",
    "populationCensored.to_csv(r'DataAnonymous\\Population.csv')\n",
    "hemodynamicBPCensored.to_csv(r'DataAnonymous\\Hemodynamic Blood Pressure.csv')\n",
    "cleanAnesthesiaEventCensored.to_csv(r'DataAnonymous\\Clean anesthesia.csv')"
   ]
  }
 ],
 "metadata": {
  "kernelspec": {
   "display_name": "base",
   "language": "python",
   "name": "python3"
  },
  "language_info": {
   "codemirror_mode": {
    "name": "ipython",
    "version": 3
   },
   "file_extension": ".py",
   "mimetype": "text/x-python",
   "name": "python",
   "nbconvert_exporter": "python",
   "pygments_lexer": "ipython3",
   "version": "3.11.5"
  }
 },
 "nbformat": 4,
 "nbformat_minor": 2
}
