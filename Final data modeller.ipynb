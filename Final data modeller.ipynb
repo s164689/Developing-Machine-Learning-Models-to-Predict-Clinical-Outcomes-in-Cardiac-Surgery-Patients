{
 "cells": [
  {
   "cell_type": "code",
   "execution_count": null,
   "metadata": {},
   "outputs": [],
   "source": [
    "\n",
    "#import csv\n",
    "import matplotlib.pyplot as plt\n",
    "import numpy as np\n",
    "import pandas as pd\n",
    "import chardet\n",
    "from datetime import datetime, timedelta\n",
    "import locale\n",
    "from sklearn.decomposition import PCA\n",
    "from sklearn import preprocessing\n",
    "import prince\n",
    "\n",
    "#pd.set_option(\"future.no_silent_downcasting\", True)"
   ]
  },
  {
   "cell_type": "markdown",
   "metadata": {},
   "source": [
    "# Pre-op data"
   ]
  },
  {
   "cell_type": "markdown",
   "metadata": {},
   "source": [
    "### Take unique patients in population that appears in the cleaned out anesthesia data set and work from that point"
   ]
  },
  {
   "cell_type": "code",
   "execution_count": null,
   "metadata": {},
   "outputs": [],
   "source": [
    "populationDF = pd.read_csv(r'FilteredData\\Population.csv')\n",
    "populationDF"
   ]
  },
  {
   "cell_type": "code",
   "execution_count": null,
   "metadata": {},
   "outputs": [],
   "source": [
    "len(list(set(populationDF['CPR'])))"
   ]
  },
  {
   "cell_type": "code",
   "execution_count": null,
   "metadata": {},
   "outputs": [],
   "source": [
    "cleanAnesthesiaEventDF = pd.read_csv(r'FilteredData\\CleanAnesthesiaTime.csv')\n",
    "cleanAnesthesiaEventDF"
   ]
  },
  {
   "cell_type": "code",
   "execution_count": null,
   "metadata": {},
   "outputs": [],
   "source": [
    "preOpConferenceDF = pd.read_csv(r'FilteredData\\Preoperation Conference.csv')\n",
    "preOpConferenceDF = preOpConferenceDF[preOpConferenceDF['CPR'].isin(cleanAnesthesiaEventDF['CPR'])]\n",
    "preOpConferenceDF"
   ]
  },
  {
   "cell_type": "code",
   "execution_count": null,
   "metadata": {},
   "outputs": [],
   "source": [
    "populationDF = populationDF[populationDF['CPR'].isin(cleanAnesthesiaEventDF['CPR'])]\n",
    "len(list(set(populationDF['CPR'])))"
   ]
  },
  {
   "cell_type": "code",
   "execution_count": null,
   "metadata": {},
   "outputs": [],
   "source": [
    "populationDF = populationDF[populationDF['CPR'].isin(preOpConferenceDF['CPR'])]\n",
    "populationDF = populationDF.drop_duplicates(subset=['CPR']).reset_index()\n",
    "populationDF"
   ]
  },
  {
   "cell_type": "code",
   "execution_count": null,
   "metadata": {},
   "outputs": [],
   "source": [
    "populationDF['OperationDate'] = pd.to_datetime(populationDF['OperationDate'])\n",
    "populationDF['DischargeDate'] = pd.to_datetime(populationDF['DischargeDate'])\n"
   ]
  },
  {
   "cell_type": "code",
   "execution_count": null,
   "metadata": {},
   "outputs": [],
   "source": [
    "populationDF['DurationInDaysAfterOperation'] = (populationDF['DischargeDate'] - populationDF['OperationDate']).dt.days\n",
    "populationDF"
   ]
  },
  {
   "cell_type": "markdown",
   "metadata": {},
   "source": [
    "#### CPR, Age, Sex"
   ]
  },
  {
   "cell_type": "code",
   "execution_count": null,
   "metadata": {},
   "outputs": [],
   "source": [
    "preOpData = populationDF[['CPR' , 'Age' , 'Sex']].copy()\n",
    "#pd.DataFrame([populationDF['CPR'], populationDF['Age'], populationDF['Sex']])\n",
    "preOpData.drop_duplicates(subset=['CPR']).reset_index()\n",
    "preOpData"
   ]
  },
  {
   "cell_type": "code",
   "execution_count": null,
   "metadata": {},
   "outputs": [],
   "source": [
    "count = preOpConferenceDF[preOpConferenceDF['CPR'].isin(preOpData['CPR'])]\n",
    "len(list(set(count['CPR'])))\n",
    "\n"
   ]
  },
  {
   "cell_type": "code",
   "execution_count": null,
   "metadata": {},
   "outputs": [],
   "source": [
    "heightList, weightList = [], []\n",
    "\n",
    "for index, cpr in preOpConferenceDF.groupby('CPR') :\n",
    "    weight = cpr[cpr['Measurement'] == 'Vægt']['Value'].iloc[-1] if 'Vægt' in cpr['Measurement'].values else np.nan\n",
    "    height = cpr[cpr['Measurement'] == 'Højde']['Value'].iloc[-1] if 'Højde' in cpr['Measurement'].values else np.nan\n",
    "\n",
    "    heightList.append(height)\n",
    "    weightList.append(weight)\n",
    "\n",
    "print(heightList.count(np.nan))\n",
    "print(weightList.count(np.nan))"
   ]
  },
  {
   "cell_type": "code",
   "execution_count": null,
   "metadata": {},
   "outputs": [],
   "source": [
    "preOpData['Height'] = heightList\n",
    "preOpData['Weight'] = weightList\n",
    "preOpData = preOpData.dropna().reset_index(drop = True)\n",
    "preOpData"
   ]
  },
  {
   "cell_type": "markdown",
   "metadata": {},
   "source": [
    "### Alcohol and smoking"
   ]
  },
  {
   "cell_type": "code",
   "execution_count": null,
   "metadata": {},
   "outputs": [],
   "source": [
    "alcAndSmoking = pd.read_csv(r'FilteredData\\Alcohol and Smoking.csv')"
   ]
  },
  {
   "cell_type": "code",
   "execution_count": null,
   "metadata": {},
   "outputs": [],
   "source": [
    "smokingMapping = {0: 'No', 1: 'Yes', 2: 'Not anymore', -1: 'Not asked'}\n",
    "alcAndSmoking['Smoking'] = alcAndSmoking['Smoking'].map(smokingMapping)\n",
    "\n",
    "alcAndSmoking = alcAndSmoking[alcAndSmoking['CPR'].isin(preOpData['CPR'])]\n",
    "highestAlcAndSmoking = alcAndSmoking.groupby('CPR')[['AlcoholPerWeek' , 'Smoking']].max()\n",
    "highestAlcAndSmoking"
   ]
  },
  {
   "cell_type": "code",
   "execution_count": null,
   "metadata": {},
   "outputs": [],
   "source": [
    "len(list(set(alcAndSmoking['CPR'])))"
   ]
  },
  {
   "cell_type": "code",
   "execution_count": null,
   "metadata": {},
   "outputs": [],
   "source": [
    "highestAlcAndSmoking['Smoking'].value_counts()"
   ]
  },
  {
   "cell_type": "code",
   "execution_count": null,
   "metadata": {},
   "outputs": [],
   "source": [
    "highestAlcAndSmoking['AlcoholPerWeek'].notna().sum()"
   ]
  },
  {
   "cell_type": "code",
   "execution_count": null,
   "metadata": {},
   "outputs": [],
   "source": [
    "bins = [ -1, 0, 10, 20, 30, float('inf')]\n",
    "\n",
    "labels = ['0', '0.5-10', '11-20', '21-30', '31+']\n",
    "\n",
    "\n",
    "plt.figure(figsize=(12, 6))\n",
    "hist = pd.cut(alcAndSmoking['AlcoholPerWeek'], bins=bins, labels=labels, include_lowest=True).value_counts().sort_index().plot(kind='bar')\n",
    "\n",
    "\n",
    "plt.xlabel('Alcohol consumed per week')\n",
    "plt.ylabel('Frequency')\n",
    "plt.title('Distribution')\n",
    "plt.xticks(rotation=45) \n",
    "plt.show()"
   ]
  },
  {
   "cell_type": "code",
   "execution_count": null,
   "metadata": {},
   "outputs": [],
   "source": [
    "highestAlcAndSmoking = highestAlcAndSmoking.rename(columns = {\"Smoking\" : \"SmokingStatus\"})\n",
    "bins = [ -1, 0, 10, 20, 30, float('inf')]\n",
    "\n",
    "labels = ['0', '0.5-10', '11-20', '21-30', '31+']"
   ]
  },
  {
   "cell_type": "code",
   "execution_count": null,
   "metadata": {},
   "outputs": [],
   "source": [
    "highestAlcAndSmoking['AlcoholPerWeek'] = pd.cut(highestAlcAndSmoking['AlcoholPerWeek'], bins=bins, labels=labels)\n",
    "alcAndSmokingEncoded = pd.get_dummies(highestAlcAndSmoking, columns=['AlcoholPerWeek'], drop_first=False)\n",
    "alcAndSmokingEncoded = pd.get_dummies(alcAndSmokingEncoded, columns=['SmokingStatus'], drop_first=False).reset_index()\n",
    "#alcAndSmokingEncoded = alcAndSmokingEncoded.drop(columns = 'CPR')\n",
    "alcAndSmokingEncoded\n"
   ]
  },
  {
   "cell_type": "code",
   "execution_count": null,
   "metadata": {},
   "outputs": [],
   "source": [
    "preOpData = preOpData[preOpData['CPR'].isin(alcAndSmokingEncoded['CPR'])]\n",
    "alcAndSmokingEncoded = alcAndSmokingEncoded[alcAndSmokingEncoded['CPR'].isin(preOpData['CPR'])]\n",
    "for column in alcAndSmokingEncoded.columns :\n",
    "    preOpData[column] = alcAndSmokingEncoded[column]\n",
    "#preOpData = pd.concat([preOpData, alcAndSmokingEncoded], axis = 1)\n",
    "#preOpData = preOpData.fillna(False)\n",
    "preOpData"
   ]
  },
  {
   "cell_type": "markdown",
   "metadata": {},
   "source": [
    "## Diagnoses"
   ]
  },
  {
   "cell_type": "code",
   "execution_count": null,
   "metadata": {},
   "outputs": [],
   "source": [
    "diagnosesDF = pd.read_csv(r'FilteredData\\Diagnoses of Patients.csv')\n",
    "diagnosesDF = diagnosesDF[diagnosesDF['CPR'].isin(preOpData['CPR'])]\n",
    "diagnosesDF"
   ]
  },
  {
   "cell_type": "code",
   "execution_count": null,
   "metadata": {},
   "outputs": [],
   "source": [
    "diagnosesDic = {'Essentiel hypertension (DI109)'                                        : 'EssentialHypertension',\n",
    "                'Kronisk iskæmisk hjertesygdom UNS (DI259)'                             : 'ChronicCAD', #Chronic Coronary artery disease\n",
    "                'Hyperkolesterolæmi (DE780)'                                            : 'HyperChol',    #Lots of lipids, AKA fats, etc.\n",
    "                'Hyperlipidæmi UNS (DE785)'                                             : 'HyperChol',   #Lots of lipids, AKA fats, etc.\n",
    "                'Type 1-diabetes med anden komplikation (DE106)'                        : 'T1Diabetes', #Type 1 Diabetes\n",
    "                'Type 1-diabetes med fodsår (DE105B)'                                   : 'T1Diabetes', #Type 1 Diabetes\n",
    "                'Type 1-diabetes med ketoacidose (DE101)'                               : 'T1Diabetes', #Type 1 Diabetes\n",
    "                'Type 1-diabetes med komplikation UNS (DE108)'                          : 'T1Diabetes', #Type 1 Diabetes\n",
    "                'Type 1-diabetes med komplikationer i perifere karsystem (DE105)'       : 'T1Diabetes', #Type 1 Diabetes\n",
    "                'Type 1-diabetes med multiple komplikationer (DE107)'                   : 'T1Diabetes', #Type 1 Diabetes\n",
    "                'Type 1-diabetes med neurologisk komplikation (DE104)'                  : 'T1Diabetes', #Type 1 Diabetes\n",
    "                'Type 1-diabetes med nyrekomplikation (DE102)'                          : 'T1Diabetes', #Type 1 Diabetes\n",
    "                'Type 1-diabetes med perifer angiopati (DE105A)'                        : 'T1Diabetes', #Type 1 Diabetes\n",
    "                'Type 1-diabetes med øjenkomplikation (DE103)'                          : 'T1Diabetes', #Type 1 Diabetes\n",
    "                'Type 1-diabetes uden komplikationer (DE109)'                           : 'T1Diabetes', #Type 1 Diabetes\n",
    "                'Type 1-diabetes UNS (DE109A)'                                          : 'T1Diabetes', #Type 1 Diabetes\n",
    "                'Type 2 myokardieinfarkt (DI219A)'                                      : 'T2Diabetes', #Type 2 Diabetes\n",
    "                'Type 2-diabetes (DE11)'                                                : 'T2Diabetes', #Type 2 Diabetes\n",
    "                'Type 2-diabetes med anden komplikation (DE116)'                        : 'T2Diabetes', #Type 2 Diabetes\n",
    "                'Type 2-diabetes med fodsår (DE115B)'                                   : 'T2Diabetes', #Type 2 Diabetes\n",
    "                'Type 2-diabetes med gangræn (DE115C)'                                  : 'T2Diabetes', #Type 2 Diabetes\n",
    "                'Type 2-diabetes med ketoacidose (DE111)'                               : 'T2Diabetes', #Type 2 Diabetes\n",
    "                'Type 2-diabetes med komplikation UNS (DE118)'                          : 'T2Diabetes', #Type 2 Diabetes\n",
    "                'Type 2-diabetes med komplikationer i perifere karsystem (DE115)'       : 'T2Diabetes', #Type 2 Diabetes\n",
    "                'Type 2-diabetes med multiple komplikationer (DE117)'                   : 'T2Diabetes', #Type 2 Diabetes\n",
    "                'Type 2-diabetes med neurologisk komplikation (DE114)'                  : 'T2Diabetes', #Type 2 Diabetes\n",
    "                'Type 2-diabetes med nyrekomplikation (DE112)'                          : 'T2Diabetes', #Type 2 Diabetes\n",
    "                'Type 2-diabetes med perifer angiopati (DE115A)'                        : 'T2Diabetes', #Type 2 Diabetes\n",
    "                'Type 2-diabetes med øjenkomplikation (DE113)'                          : 'T2Diabetes', #Type 2 Diabetes\n",
    "                'Type 2-diabetes uden komplikationer (DE119)'                           : 'T2Diabetes', #Type 2 Diabetes\n",
    "                'Type 2-diabetes UNS (DE119A)'                                          : 'T2Diabetes', #Type 2 Diabetes\n",
    "                'Overvægt UNS (DE669)'                                                  : 'Overweight', #Overweight\n",
    "                'Kronisk obstruktiv lungesygdom (DJ44)'                                 : 'Overweight', #Overweight\n",
    "                'Fedme (BMI 30-34,9) (DE660B)'                                          : 'Overweight', #Overweight\n",
    "                'Overvægt (BMI 25-29,9) (DE660A)'                                       : 'Overweight', #Overweight\n",
    "                'Overvægt og fedme (DE66)'                                              : 'Overweight', #Overweight\n",
    "                'Anden overvægt eller fedme (DE668)'                                    : 'Overweight', #Overweight\n",
    "                'Akut nyreinsufficiens UNS (DN179)'                                     : 'AcuteKidneyFailure', #Acute Kidney Failure\n",
    "                'Kronisk nyreinsufficiens UNS (DN189)'                                  : 'ChronicKidneyFailure', #Chronic Kidney Failure\n",
    "                'Nyreinsufficiens UNS (DN199)'                                          : 'ChronicKidneyFailure', #Chronic Kidney Failure\n",
    "                'Kronisk nyreinsufficiens, terminal stadie 5 (DN185)'                   : 'ChronicKidneyFailure', #Chronic Kidney Failure\n",
    "                'Kronisk nyreinsufficiens, stadie 3 (DN183)'                            : 'ChronicKidneyFailure', #Chronic Kidney Failure\n",
    "                'Kronisk nyreinsufficiens, stadie 4 (DN184)'                            : 'ChronicKidneyFailure', #Chronic Kidney Failure\n",
    "                'Kronisk nyreinsufficiens, stadie 2 (DN182)'                            : 'ChronicKidneyFailure', #Chronic Kidney Failure\n",
    "                'Kronisk nyreinsufficiens uden funktionsnedsættelse, stadie 1 (DN181)'  : 'ChronicKidneyFailure', #Chronic Kidney Failure\n",
    "                'Aterosklerose UNS (DI709)'                                             : 'Arteriosclerosis', #Arteriosclerosis\n",
    "                'Aterosklerose i arterie i underekstremitet (DI702)'                    : 'Arteriosclerosis', #Arteriosclerosis\n",
    "                'Aterosklerotisk gangræn (DI702A)'                                      : 'Arteriosclerosis', #Arteriosclerosis\n",
    "                'Aterosklerose i anden arterie (DI708)'                                 : 'Arteriosclerosis', #Arteriosclerosis\n",
    "                'Aterosklerose i aorta (DI700)'                                         : 'Arteriosclerosis', #Arteriosclerosis\n",
    "                'Cerebral aterosklerose (DI672)'                                        : 'Arteriosclerosis', #Arteriosclerosis\n",
    "                'Aterosklerose i nyrearterie (DI701)'                                   : 'Arteriosclerosis', #Arteriosclerosis\n",
    "                'Mesenteriel aterosklerose (DK551A)'                                    : 'Arteriosclerosis', #Arteriosclerosis\n",
    "                'Aterosklerotisk retinopati (DI708A)'                                   : 'Arteriosclerosis', #Arteriosclerosis\n",
    "                'Claudicatio intermittens (DI739A)'                                     : 'Arteriosclerosis'} #Arteriosclerosis\n",
    "\n",
    "\n",
    "diagnosesDF = diagnosesDF.replace({\"DiagnosisName\" : diagnosesDic})\n",
    "diagnosesDic = list(diagnosesDic.values())\n",
    "diagnosesDF = diagnosesDF[diagnosesDF['DiagnosisName'].isin(diagnosesDic)]\n",
    "\n",
    "diagnosesDF['DiagnosisName'].value_counts()"
   ]
  },
  {
   "cell_type": "code",
   "execution_count": null,
   "metadata": {},
   "outputs": [],
   "source": [
    "len(list(set(diagnosesDF['CPR'])))"
   ]
  },
  {
   "cell_type": "code",
   "execution_count": null,
   "metadata": {},
   "outputs": [],
   "source": [
    "cleanAnesthesiaEventDF['StartOfProcedure'] = pd.to_datetime(cleanAnesthesiaEventDF['StartOfProcedure'])\n",
    "diagnosesDF['Date'] = pd.to_datetime(diagnosesDF['Date'])\n",
    "mergeddiagnosesDF = pd.merge(diagnosesDF, cleanAnesthesiaEventDF[['CPR' , 'StartOfProcedure']] , on = 'CPR' , how = 'left')\n",
    "mergeddiagnosesDF = mergeddiagnosesDF[mergeddiagnosesDF['Date'] <= mergeddiagnosesDF['StartOfProcedure']]\n",
    "len(list(set(mergeddiagnosesDF['CPR'])))"
   ]
  },
  {
   "cell_type": "code",
   "execution_count": null,
   "metadata": {},
   "outputs": [],
   "source": [
    "diagnosesDF = mergeddiagnosesDF.drop(columns = ['StartOfProcedure', 'Date' , 'DiagnosisSKS'])"
   ]
  },
  {
   "cell_type": "code",
   "execution_count": null,
   "metadata": {},
   "outputs": [],
   "source": [
    "diagnosesOneHotDF = pd.get_dummies(diagnosesDF, columns=['DiagnosisName'], drop_first=False).reset_index(drop = True)\n",
    "diagnosesOneHotDF = diagnosesOneHotDF.groupby('CPR').max().reset_index()\n",
    "diagnosesOneHotDF = diagnosesOneHotDF[diagnosesOneHotDF['CPR'].isin(preOpData['CPR'])]\n",
    "diagnosesOneHotDF"
   ]
  },
  {
   "cell_type": "code",
   "execution_count": null,
   "metadata": {},
   "outputs": [],
   "source": [
    "preOpDataMerged = pd.merge(preOpData, diagnosesOneHotDF, on = 'CPR' , how = 'left')\n",
    "preOpDataMerged.fillna(False, inplace = True)\n",
    "preOpDataMerged.isna().sum()"
   ]
  },
  {
   "cell_type": "code",
   "execution_count": null,
   "metadata": {},
   "outputs": [],
   "source": [
    "preOpData = preOpDataMerged\n",
    "preOpData"
   ]
  },
  {
   "cell_type": "code",
   "execution_count": null,
   "metadata": {},
   "outputs": [],
   "source": [
    "len(list(set(diagnosesDF['CPR'])))"
   ]
  },
  {
   "cell_type": "markdown",
   "metadata": {},
   "source": [
    "## Blood Samples"
   ]
  },
  {
   "cell_type": "code",
   "execution_count": null,
   "metadata": {},
   "outputs": [],
   "source": [
    "bloodSamplesDF = pd.read_csv(r'FilteredData\\Blood Samples.csv')"
   ]
  },
  {
   "cell_type": "code",
   "execution_count": null,
   "metadata": {},
   "outputs": [],
   "source": [
    "bloodSamplesDF['CPR'].isin(preOpData['CPR'])\n",
    "bloodSamplesDF"
   ]
  },
  {
   "cell_type": "code",
   "execution_count": null,
   "metadata": {},
   "outputs": [],
   "source": [
    "bloodDic = {'ALBUMIN;P'                       : 'albumin_p',\n",
    "            'BILIRUBINER (POC);P'             : 'bili_p',\n",
    "            'BILIRUBINER(POC);P'              : 'bili_p',\n",
    "            'BILIRUBINER;P'                   : 'bili_p',\n",
    "            'KREATINKINASE MB;P'              : 'ckmb',\n",
    "            'C-REAKTIVT PROTEIN'              : 'crp',\n",
    "            'C-REAKTIVT PROTEIN [CRP];P'      : 'crp',\n",
    "            'KOAGULATIONSFAKTOR II+VII+X;P'   : 'faktor_2_7_10',\n",
    "            'GLUKOSE(POC);P'                  : 'glukose_p',\n",
    "            'GLUKOSE(POC);P(AB)'              : 'glukose_p',\n",
    "            'GLUKOSE(POC);P(KB)'              : 'glukose_p',\n",
    "            'GLUKOSE;P'                       : 'glukose_p',\n",
    "            'GLUKOSE;P(AB)'                   : 'glukose_p',\n",
    "            'HÆMOGLOBIN (POC);B'              : 'hb_b',\n",
    "            'HÆMOGLOBIN;B'                    : 'hb_b',\n",
    "            'KARBAMID;P'                      : 'karb',\n",
    "            'KREATININ (ENZ.);P'              : 'krea_p',\n",
    "            'KREATININ;P'                     : 'krea_p',\n",
    "            'LAKTAT(POC);P(AB)'               : 'laktat_p',\n",
    "            'LAKTAT;P(AB)'                    : 'laktat_p',\n",
    "            'LAKTAT(POC);P(VB)'               : 'laktat_vene',\n",
    "            'LAKTAT;P(VB)'                    : 'laktat_vene',\n",
    "            'LEUKOCYTTER;B'                   : 'leukocytter',\n",
    "            'P(AB)-PCO2;(37 °C POC)'          : 'pco2_art',\n",
    "            'PCO2;P(AB)'                      : 'pco2_art',\n",
    "            'P(AB)-PH;(37 °C POC)'            : 'ph_art',\n",
    "            'PH;P(AB)'                        : 'ph_art',\n",
    "            'PH;P(CVB)'                       : 'ph_cvb',\n",
    "            'P(AB)-PO2;(37 °C POC)'           : 'po2_art',\n",
    "            'PO2;P(AB)'                       : 'po2_art',\n",
    "            'O2 SAT. (POC);HB(CVB)'           : 'sat_cvb',\n",
    "            'TROMBOCYTTER;B'                  : 'trombocytter',\n",
    "            'TROPONIN I (NG/L);P'             : 'troponin_i',\n",
    "            'TROPONIN I;P'                    : 'troponin_i',\n",
    "            'TROPONIN (LOKAL);P'              : 'troponin_lokal',\n",
    "            'TROPONIN T;P'                    : 'troponin_t'}\n",
    "\n",
    "\n",
    "bloodSamplesDF = bloodSamplesDF.replace({\"OrderName\" : bloodDic})\n",
    "bloodDicList = list(bloodDic.values())\n",
    "bloodSamplesDF = bloodSamplesDF[bloodSamplesDF['OrderName'].isin(bloodDicList)]\n",
    "\n",
    "bloodSamplesDF['OrderName'].value_counts()\n"
   ]
  },
  {
   "cell_type": "code",
   "execution_count": null,
   "metadata": {},
   "outputs": [],
   "source": [
    "bloodSamplesKept = ['ckmb' , 'crp' , 'hb_b' , 'krea_p' , 'leukocytter' , 'trombocytter' , 'troponin_i' , 'troponin_lokal' , 'troponin_t']\n",
    "bloodSamplesDF = bloodSamplesDF[bloodSamplesDF['OrderName'].isin(bloodSamplesKept)]\n",
    "bloodSamplesDF['OrderName'].value_counts()"
   ]
  },
  {
   "cell_type": "code",
   "execution_count": null,
   "metadata": {},
   "outputs": [],
   "source": [
    "viewBloodResults = pd.DataFrame({'ResultValue' : list(set(bloodSamplesDF['ResultValue'])), 'Count' : list(set(bloodSamplesDF['ResultValue']))})\n",
    "\n",
    "\n",
    "viewBloodResults['Count'] = viewBloodResults['ResultValue'].map(bloodSamplesDF['ResultValue'].value_counts())\n",
    "viewBloodResults = viewBloodResults.sort_values('Count' , ascending = False)\n",
    "print(len(list(set(bloodSamplesDF['CPR']))))\n",
    "print(len(list(set(cleanAnesthesiaEventDF['CPR']))))"
   ]
  },
  {
   "cell_type": "code",
   "execution_count": null,
   "metadata": {},
   "outputs": [],
   "source": [
    "bloodSamplesDF = bloodSamplesDF[bloodSamplesDF['CPR'].isin(preOpData['CPR'])]\n",
    "len(list(set(bloodSamplesDF['CPR'])))"
   ]
  },
  {
   "cell_type": "code",
   "execution_count": null,
   "metadata": {},
   "outputs": [],
   "source": [
    "cleanAnesthesiaEventDF = cleanAnesthesiaEventDF[cleanAnesthesiaEventDF['CPR'].isin(preOpData['CPR'])]\n",
    "len(list(set(cleanAnesthesiaEventDF['CPR'])))"
   ]
  },
  {
   "cell_type": "code",
   "execution_count": null,
   "metadata": {},
   "outputs": [],
   "source": [
    "bloodSamplesDF['ResultTime'] = pd.to_datetime(bloodSamplesDF['ResultTime'])"
   ]
  },
  {
   "cell_type": "code",
   "execution_count": null,
   "metadata": {},
   "outputs": [],
   "source": [
    "mergedBloodDF = pd.merge(bloodSamplesDF, cleanAnesthesiaEventDF[['CPR' , 'StartOfProcedure']] , on = 'CPR' , how = 'left')\n",
    "mergedBloodDF = mergedBloodDF[mergedBloodDF['ResultTime'] <= mergedBloodDF['StartOfProcedure']]\n",
    "oneWeekBefore = mergedBloodDF['StartOfProcedure'] - pd.Timedelta(weeks = 1)\n",
    "mergedBloodDF = mergedBloodDF[mergedBloodDF['ResultTime'] >= oneWeekBefore]\n",
    "len(list(set(mergedBloodDF['CPR'])))"
   ]
  },
  {
   "cell_type": "code",
   "execution_count": null,
   "metadata": {},
   "outputs": [],
   "source": [
    "mergedBloodDF['OrderName'].value_counts()"
   ]
  },
  {
   "cell_type": "code",
   "execution_count": null,
   "metadata": {},
   "outputs": [],
   "source": [
    "bloodSamplesDF = mergedBloodDF.drop(columns = 'StartOfProcedure')"
   ]
  },
  {
   "cell_type": "code",
   "execution_count": null,
   "metadata": {},
   "outputs": [],
   "source": [
    "def cleaningBloodSamples(val) :\n",
    "    try:\n",
    "        val = val.replace('>','').replace('<','')\n",
    "        return float(val)\n",
    "    except ValueError:\n",
    "        return np.nan\n",
    "\n",
    "bloodSamplesDF['ResultValue'] = bloodSamplesDF['ResultValue'].apply(cleaningBloodSamples)\n",
    "\n",
    "bloodSamplesDF = bloodSamplesDF.dropna(subset=['ResultValue'])\n",
    "bloodSamplesDF"
   ]
  },
  {
   "cell_type": "code",
   "execution_count": null,
   "metadata": {},
   "outputs": [],
   "source": [
    "len(list(set(bloodSamplesDF['CPR'])))"
   ]
  },
  {
   "cell_type": "code",
   "execution_count": null,
   "metadata": {},
   "outputs": [],
   "source": [
    "bloodSamplesLastDF = bloodSamplesDF.sort_values(by = ['CPR' , 'OrderName' , 'ResultTime']).groupby(['CPR' , 'OrderName']).last().reset_index()\n",
    "bloodSamplesPivotDF = bloodSamplesLastDF.pivot_table(index = 'CPR' , columns = 'OrderName' , values = 'ResultValue' )\n",
    "bloodSamplesPivotDF['ckmb'] = bloodSamplesPivotDF['ckmb'].notna()\n",
    "bloodSamplesPivotDF['troponin_i'] = bloodSamplesPivotDF['troponin_i'].notna()\n",
    "bloodSamplesPivotDF['troponin_t'] = bloodSamplesPivotDF['troponin_t'].notna()\n"
   ]
  },
  {
   "cell_type": "code",
   "execution_count": null,
   "metadata": {},
   "outputs": [],
   "source": [
    "bloodSamplesPivotDF.isna().sum()"
   ]
  },
  {
   "cell_type": "code",
   "execution_count": null,
   "metadata": {},
   "outputs": [],
   "source": [
    "len(list(set(bloodSamplesLastDF['CPR'])))"
   ]
  },
  {
   "cell_type": "code",
   "execution_count": null,
   "metadata": {},
   "outputs": [],
   "source": [
    "bloodSamplesPivotDF = bloodSamplesPivotDF.dropna()\n",
    "bloodSamplesPivotDF = bloodSamplesPivotDF.reset_index()\n",
    "bloodSamplesPivotDF"
   ]
  },
  {
   "cell_type": "code",
   "execution_count": null,
   "metadata": {},
   "outputs": [],
   "source": [
    "len(bloodSamplesPivotDF['troponin_i'])"
   ]
  },
  {
   "cell_type": "code",
   "execution_count": null,
   "metadata": {},
   "outputs": [],
   "source": [
    "preOpData = preOpData[preOpData['CPR'].isin(bloodSamplesPivotDF['CPR'])].reset_index(drop = True)\n",
    "preOpData[['ckmb' , 'crp' , 'hb_b' , 'krea_p' , 'leukocytter' , 'trombocytter' , 'troponin_i' , 'troponin_t']] = pd.DataFrame(bloodSamplesPivotDF[['ckmb' , 'crp' , 'hb_b' , 'krea_p' , 'leukocytter' , 'trombocytter' , 'troponin_i' , 'troponin_t']])\n",
    "preOpData"
   ]
  },
  {
   "cell_type": "code",
   "execution_count": null,
   "metadata": {},
   "outputs": [],
   "source": [
    "bloodSamplesPivotDF['ckmb'].value_counts()"
   ]
  },
  {
   "cell_type": "code",
   "execution_count": null,
   "metadata": {},
   "outputs": [],
   "source": [
    "bloodSamplesOneHotDF = pd.get_dummies(bloodSamplesDF, columns=['OrderName'], drop_first=False).reset_index()\n",
    "bloodSamplesOneHotDF = bloodSamplesOneHotDF.drop(columns = ['index', 'ResultTime', 'ResultValue'])\n",
    "bloodSamplesOneHotDF = bloodSamplesOneHotDF.groupby('CPR').max().reset_index()\n",
    "\n",
    "prefix = 'OrderName_'\n",
    "# BE CAREFUL OF THE THIS LIST, TROPONIN_LOKAL HAS BEEN REMOVED\n",
    "bloodSamplesKept = ['ckmb' , 'crp' , 'hb_b' , 'krea_p' , 'leukocytter' , 'trombocytter' , 'troponin_i' ,  'troponin_t']\n",
    "cols = list(bloodSamplesOneHotDF)\n",
    "x = 0\n",
    "for idx, val in enumerate(cols):\n",
    "    if val.startswith(prefix):\n",
    "        bloodSamplesOneHotDF.rename(index=str, columns={val: bloodSamplesKept[x]}, inplace=True)\n",
    "        x += 1\n",
    "bloodSamplesOneHotDF = bloodSamplesOneHotDF[bloodSamplesOneHotDF['CPR'].isin(preOpData['CPR'])]\n",
    "bloodSamplesOneHotDF.sum(axis=0)"
   ]
  },
  {
   "cell_type": "code",
   "execution_count": null,
   "metadata": {},
   "outputs": [],
   "source": [
    "preOpData"
   ]
  },
  {
   "cell_type": "code",
   "execution_count": null,
   "metadata": {},
   "outputs": [],
   "source": [
    "preOpData['DiagnosisName_AcuteKidneyFailure'].value_counts()"
   ]
  },
  {
   "cell_type": "code",
   "execution_count": null,
   "metadata": {},
   "outputs": [],
   "source": [
    "preOpData"
   ]
  },
  {
   "cell_type": "code",
   "execution_count": null,
   "metadata": {},
   "outputs": [],
   "source": [
    "preOpData.isna().sum()"
   ]
  },
  {
   "cell_type": "markdown",
   "metadata": {},
   "source": [
    "## Echocardiography"
   ]
  },
  {
   "cell_type": "code",
   "execution_count": null,
   "metadata": {},
   "outputs": [],
   "source": [
    "intellispaceDF = pd.read_csv(r'FilteredData\\Intellispace.csv')\n",
    "intellispaceDF"
   ]
  },
  {
   "cell_type": "code",
   "execution_count": null,
   "metadata": {},
   "outputs": [],
   "source": [
    "intellispaceDF = intellispaceDF.sort_values(['CPR', 'MeasurementTime']).reset_index(drop = True)\n",
    "intellispaceDF"
   ]
  },
  {
   "cell_type": "code",
   "execution_count": null,
   "metadata": {},
   "outputs": [],
   "source": [
    "\"\"\" intellispaceDF['MeasurementTime'] = pd.to_datetime(intellispaceDF['MeasurementTime'])\n",
    "mergedintellispaceDF = pd.merge(intellispaceDF, cleanAnesthesiaEventDF[['CPR' , 'StartOfProcedure']] , on = 'CPR' , how = 'left')\n",
    "mergedintellispaceDF = mergedintellispaceDF[mergedintellispaceDF['MeasurementTime'] <= mergedintellispaceDF['StartOfProcedure']].reset_index(drop = True)\n",
    "intellispaceDF = mergedintellispaceDF.drop(columns = ['StartOfProcedure'])\n",
    "len(list(set(mergedintellispaceDF['CPR']))) \"\"\""
   ]
  },
  {
   "cell_type": "code",
   "execution_count": null,
   "metadata": {},
   "outputs": [],
   "source": [
    "\"\"\" intellispaceCount1 = intellispaceDF['MeasureCode'].value_counts().rename_axis('MeasureCode').reset_index(name='counts')\n",
    "intellispaceCount2 = intellispaceDF['Note'].value_counts().rename_axis('Note').reset_index(name='counts')\n",
    "intellispaceCount1.to_csv(r'FilteredData\\intellispaceCodeCountPreOp.csv')\n",
    "intellispaceCount2.to_csv(r'FilteredData\\intellispaceNoteCountPreOp.csv') \"\"\""
   ]
  },
  {
   "cell_type": "code",
   "execution_count": null,
   "metadata": {},
   "outputs": [],
   "source": [
    "len(list(set(intellispaceDF['CPR'])))"
   ]
  },
  {
   "cell_type": "code",
   "execution_count": null,
   "metadata": {},
   "outputs": [],
   "source": [
    "intellispaceDic = {'LV400dk1' : 'LV diastolic func',\n",
    "                   'LV400dk3' : 'LV diastolic func',\n",
    "                   'LV-0077'  : 'LV systolic func',\n",
    "                   'LV300dk'  : 'LV systolic func',\n",
    "                   'LV301dk'  : 'LV systolic func',\n",
    "                   'LV303dk4' : 'LV systolic func',\n",
    "                   'LV304dk1' : 'LV systolic func',\n",
    "                   'LV305dk2' : 'LV systolic func',\n",
    "                   'LV306dk2' : 'LV systolic func',\n",
    "                   'LV101dk'  : 'LV size',\n",
    "                   'LV102dk'  : 'LV size',\n",
    "                   'LV104dk'  : 'LV size',\n",
    "                   'LV105dk'  : 'LV size',\n",
    "                   'LV106dk'  : 'LV size',\n",
    "                   'RV101dk'  : 'RV size',\n",
    "                   'RV102dk1' : 'RV size',\n",
    "                   'RV102dk2' : 'RV size',\n",
    "                   'RV102dk3' : 'RV size',\n",
    "                   'RV102dk4' : 'RV size',\n",
    "                   'AT301dk'  : 'RA size',\n",
    "                   'AT305dk1' : 'RA size',\n",
    "                   'RA-0020'  : 'RA size',\n",
    "                   'RV301dk1' : 'RV systolic func',\n",
    "                   'RV300dk7' : 'RV systolic func',\n",
    "                   'RV300dk6' : 'RV systolic func',\n",
    "                   'TV800dk'  : 'Pulmonal hypertension',\n",
    "                   'TV804dk3' : 'Pulmonal hypertension',\n",
    "                   'TV804dk4' : 'Pulmonal hypertension',\n",
    "                   'TV810dk'  : 'Pulmonal hypertension',\n",
    "                   'MV103dk'  : 'Mitral stenosis AND insufficiency',\n",
    "                   'MV600dk'  : 'Mitral insufficiency',\n",
    "                   'MV602dk1' : 'Mitral insufficiency',\n",
    "                   'MV602dk3' : 'Mitral insufficiency',\n",
    "                   'MV602dk2' : 'Mitral insufficiency',\n",
    "                   'AV103dk.' : 'Aortic stenosis AND insufficiency',\n",
    "                   'MV500dk'  : 'Mitral stenosis',\n",
    "                   'MV503dk3' : 'Mitral stenosis',\n",
    "                   'MV503dk4' : 'Mitral stenosis',\n",
    "                   'AV716dk'  : 'Aortic stenosis',\n",
    "                   'AV500dk'  : 'Aortic stenosis',\n",
    "                   'AV504dk1' : 'Aortic stenosis',\n",
    "                   'AV506dk1' : 'Aortic stenosis',\n",
    "                   'AV600dk'  : 'Aortic insufficiency',\n",
    "                   'AV601dk'  : 'Aortic insufficiency',\n",
    "                   'AV602dk1' : 'Aortic insufficiency',\n",
    "                   'AV602dk2' : 'Aortic insufficiency',\n",
    "                   'AV602dk3' : 'Aortic insufficiency',\n",
    "                   'AV608dk2' : 'Aortic insufficiency',\n",
    "                   'TV103dk'  : 'Tricuspid stenosis AND insufficiency',\n",
    "                   'TV500dk'  : 'Tricuspid stenosis',\n",
    "                   'TV502dk'  : 'Tricuspid stenosis',\n",
    "                   'TV503dk'  : 'Tricuspid stenosis',\n",
    "                   'TV504dk'  : 'Tricuspid stenosis',\n",
    "                   'TV600dk'  : 'Tricuspid insufficiency',\n",
    "                   'TV602dk1' : 'Tricuspid insufficiency',\n",
    "                   'TV602dk2' : 'Tricuspid insufficiency',\n",
    "                   'TV602dk3' : 'Tricuspid insufficiency'\n",
    "                   }"
   ]
  },
  {
   "cell_type": "code",
   "execution_count": null,
   "metadata": {},
   "outputs": [],
   "source": [
    "intellispaceDF = intellispaceDF.dropna()\n",
    "len(list(set(intellispaceDF['CPR'])))\n"
   ]
  },
  {
   "cell_type": "code",
   "execution_count": null,
   "metadata": {},
   "outputs": [],
   "source": [
    "intellispaceDF = intellispaceDF.replace({'MeasureCode' : intellispaceDic})\n",
    "intellispaceMissingDF = intellispaceDF[~intellispaceDF['MeasureCode'].isin(intellispaceDic.values())]\n",
    "intellispaceDF = intellispaceDF[intellispaceDF['MeasureCode'].isin(intellispaceDic.values())]\n",
    "intellispaceDF"
   ]
  },
  {
   "cell_type": "code",
   "execution_count": null,
   "metadata": {},
   "outputs": [],
   "source": [
    "len(list(set(intellispaceDF['CPR'])))"
   ]
  },
  {
   "cell_type": "code",
   "execution_count": null,
   "metadata": {},
   "outputs": [],
   "source": [
    "def splitCode(row) :\n",
    "    parts = row['MeasureCode'].split(' AND ')\n",
    "    firstWord = parts[0].split()[0]\n",
    "    return [firstWord + ' ' + part.split(maxsplit = 1)[-1] for part in parts]\n",
    "\n",
    "intellispaceDF['MeasureCode'] = intellispaceDF.apply(splitCode, axis = 1)\n",
    "intellispaceDF = intellispaceDF.explode('MeasureCode').reset_index(drop = True)\n",
    "intellispaceDF['MeasureCode'].value_counts()\n"
   ]
  },
  {
   "cell_type": "markdown",
   "metadata": {},
   "source": [
    "Comparing the times of the measurements with the procedure times"
   ]
  },
  {
   "cell_type": "code",
   "execution_count": null,
   "metadata": {},
   "outputs": [],
   "source": [
    "intellispaceDF['MeasurementTime'] = pd.to_datetime(intellispaceDF['MeasurementTime'])\n",
    "mergedintellispaceDF = pd.merge(intellispaceDF, cleanAnesthesiaEventDF[['CPR' , 'StartOfProcedure']] , on = 'CPR' , how = 'left')\n",
    "\n",
    "# Store measurements before the procedure\n",
    "mergedintellispaceBEFOREDF = mergedintellispaceDF[mergedintellispaceDF['MeasurementTime'] <= mergedintellispaceDF['StartOfProcedure']].reset_index(drop = True)\n",
    "\n",
    "# Store measurements after the procedure and then remove all the patients who are measured BEFORE the procedure\n",
    "mergedintellispaceAFTERDF = mergedintellispaceDF[mergedintellispaceDF['MeasurementTime'] > mergedintellispaceDF['StartOfProcedure']].reset_index(drop = True)\n",
    "mergedintellispaceAFTERDF = mergedintellispaceAFTERDF[~mergedintellispaceAFTERDF['CPR'].isin(mergedintellispaceBEFOREDF['CPR'])].reset_index(drop = True)\n",
    "\n",
    "mergedintellispaceDF = mergedintellispaceDF[mergedintellispaceDF['MeasurementTime'] <= mergedintellispaceDF['StartOfProcedure']].reset_index(drop = True)\n",
    "len(list(set(mergedintellispaceAFTERDF['CPR'])))"
   ]
  },
  {
   "cell_type": "code",
   "execution_count": null,
   "metadata": {},
   "outputs": [],
   "source": [
    "len(list(set(mergedintellispaceDF['CPR'])))"
   ]
  },
  {
   "cell_type": "code",
   "execution_count": null,
   "metadata": {},
   "outputs": [],
   "source": [
    "mergedintellispaceAFTERDF.drop_duplicates().reset_index(drop = True).to_csv(r'FilteredData\\Intellispace Relevant AFTER procedure.csv')"
   ]
  },
  {
   "cell_type": "markdown",
   "metadata": {},
   "source": [
    "Looking at the missing patients from intellispace"
   ]
  },
  {
   "cell_type": "code",
   "execution_count": null,
   "metadata": {},
   "outputs": [],
   "source": [
    "intellispaceMissingDF['MeasurementTime'] = pd.to_datetime(intellispaceMissingDF['MeasurementTime'])\n",
    "mergedintellispaceMissingDF = pd.merge(intellispaceMissingDF, cleanAnesthesiaEventDF[['CPR' , 'StartOfProcedure']] , on = 'CPR' , how = 'left')\n",
    "mergedintellispaceMissingDF = mergedintellispaceMissingDF[mergedintellispaceMissingDF['MeasurementTime'] <= mergedintellispaceMissingDF['StartOfProcedure']].reset_index(drop = True)\n",
    "mergedintellispaceMissingDF = mergedintellispaceMissingDF[~mergedintellispaceMissingDF['CPR'].isin(mergedintellispaceDF['CPR'])].reset_index(drop = True)\n",
    "len(list(set(mergedintellispaceMissingDF['CPR'])))"
   ]
  },
  {
   "cell_type": "code",
   "execution_count": null,
   "metadata": {},
   "outputs": [],
   "source": [
    "intellispaceDF = mergedintellispaceDF.drop(columns = 'StartOfProcedure').reset_index(drop = True)"
   ]
  },
  {
   "cell_type": "code",
   "execution_count": null,
   "metadata": {},
   "outputs": [],
   "source": [
    "intellispaceDF"
   ]
  },
  {
   "cell_type": "code",
   "execution_count": null,
   "metadata": {},
   "outputs": [],
   "source": [
    "intellispaceGradingDic = {'Venstre ventrikels diastoliske funktion er normal.' : 1,\n",
    "                          'Grad 1 (normalt fyldningstyk) diastolisk dysfunktion.' : 2, #fyldningstyk kekw\n",
    "                          'Grad 2 (forhøjet fyldningstryk) diastolisk dysfunktion.' : 3,\n",
    "                          'Grad 3 (forhøjet fyldningstryk) diastolisk dysfunktion.' : 4,\n",
    "                          'Ejection Fraction = >55%.' : 1,\n",
    "                          'Normal left ventricular function (EF 55-65%)' : 1,\n",
    "                          'The left ventricular ejection fraction is normal.' : 1,\n",
    "                          'Venstre ventrikel ejection fraction er normal.' : 1,\n",
    "                          'Venstre ventrikel ejection fraction er stort set normal.' : 1,\n",
    "                          'Venstre ventrikels systoliske funktion er let reduceret, og LVEF 55 %.' : 1,\n",
    "                          'Venstre ventrikels systoliske funktion er let reduceret, og LVEF 50 %.' : 2,\n",
    "                          'Venstre ventrikels systoliske funktion er moderat reduceret, og LVEF 45 %.' : 2,\n",
    "                          'Ejection Fraction = 45-50%.' : 2,\n",
    "                          'Ejection Fraction = 50-55%.' : 2,\n",
    "                          'Mildly decreased left ventricular function (EF 45-50%)' : 2,\n",
    "                          'Moderately decreased left ventricular function (EF 35-45%)' : 3,\n",
    "                          'Venstre ventrikels systoliske funktion er moderat reduceret, og LVEF 40 %.' : 3,\n",
    "                          'Venstre ventrikels systoliske funktion er moderat reduceret, og LVEF 35 %.' : 3,\n",
    "                          'Ejection Fraction = <25%.' : 4,\n",
    "                          'Ejection Fraction = 25-35%.' : 4,\n",
    "                          'Severely decreased left ventricular function (EF <30%)' : 4,\n",
    "                          'Venstre ventrikels systoliske funktion er betydelig reduceret og LVEF 25 %.' : 4,\n",
    "                          'Venstre ventrikels systoliske funktion er betydelig reduceret og LVEF 30 %.' : 4,\n",
    "                          'Venstre ventrikels systoliske funktion er svært reduceret og LVEF 15 %.' : 4,\n",
    "                          'Venstre ventrikels systoliske funktion er svært reduceret og LVEF 10 %.' : 4,\n",
    "                          'Venstre ventrikels systoliske funktion er svært reduceret og LVEF 20 %.' : 4,\n",
    "                          'Venstre ventrikels systoliske funktion er svært reduceret og LVEF 5 %.' : 4,\n",
    "                          'Venstre ventrikels storrelse er stort set normal.' : 1,\n",
    "                          'Venstre ventrikels storrelse er normal.' : 1,\n",
    "                          'Venstre ventrikel er let dilateret.' : 2,\n",
    "                          'Venstre ventrikel er moderat dilateret.' : 3,\n",
    "                          'Venstre ventrikel er svært dilateret.' : 4,\n",
    "                          'Højre ventrikels storrelse er stort set normal.' : 1,\n",
    "                          'Højre ventrikels storrelse er normal.' : 1,\n",
    "                          'Højre ventrikels storrelse er let dilateret.' : 2,\n",
    "                          'Højre ventrikels storrelse er moderat dilateret.' : 3,\n",
    "                          'Højre ventrikels storrelse er svært dilateret.' : 4,\n",
    "                          'Det højre atriums storrelse er normal.' : 1,\n",
    "                          'The right atrium is normal size' : 1,\n",
    "                          'Det højre atrium er dilateret.' : 2,\n",
    "                          'The right atrium is mildly enlarged' : 2,\n",
    "                          'The right atrium is mildly dilated.' : 2,\n",
    "                          'The right atrium is mild to moderately dilated.' : 3,\n",
    "                          'The right atrium is moderately enlarged' : 3,\n",
    "                          'The right atrium is severely dilated.' : 4,\n",
    "                          'The right atrium is severely enlarged' : 4,\n",
    "                          'Højre ventrikels systoliske funktionn er stort set normal.' : 1,\n",
    "                          'Højre ventrikels systoliske funktion er normal.' : 1,\n",
    "                          'Højre ventrikels systoliske funktion er nedsat.' : 2,\n",
    "                          'Det systoliske tryk i højre ventrikel er normalt.' : 1,\n",
    "                          'Højre ventrikels systoliske  tryk er forhøjet til 40 - 50 mm Hg. forenelig med let pulmonal hypertension.' : 2,\n",
    "                          'Højre ventrikels systoliske  tryk er forhøjet til 50 - 60 mm Hg forenelig med moderat pulmonal hypertension.' : 3,\n",
    "                          'Højre ventrikels systoliske tryk er højere end 60mmhg. forenelig med svær pulmonal hyperetension.' : 4,\n",
    "                          'Der er ingen mitralklap insufficiens.' : 1,\n",
    "                          'Der er let mitralklap insufficiens.' : 2,\n",
    "                          'Der er moderat mitralklap insufficiens.' : 3,\n",
    "                          'Der er svær mitralklap insufficiens.' : 4,\n",
    "                          'Mitralklappen fremtræder såvel strukturelt som funktionelt normal.' : 1,\n",
    "                          'Der er ingen mitralklap stenose.' : 1,\n",
    "                          'Der er moderat mitralklap stenose.' : 2,\n",
    "                          'Der er svær mitralklap stenose.' : 3,\n",
    "                          'Peak og/eller mean gradienterne over aortaklapprotesen er normale.' : 1,\n",
    "                          'Der er ingen valvulær aortastenose.' : 1,\n",
    "                          'Aortaklappen er normal i såvel strukturel som funktionel henseende.' : 1,\n",
    "                          'Der er en moderat valvulær aortastenose.' : 2,\n",
    "                          'Der er en svær valvulær aortastenose.' : 3,\n",
    "                          'Der ses ingen aortaklap insufficiens.' : 1,\n",
    "                          'Der er en diskret aortaklap  insufficiens.' : 2,\n",
    "                          'Der er en let aortaklap insufficiens.' : 2,\n",
    "                          'Der er en moderat aortaklap insufficiens.' : 3,\n",
    "                          'Der er en svær aortaklap insufficiens.' : 4,\n",
    "                          'Der ses retrograd flow i aorta descendens tydende på svær aortaklap insufficiens.' : 4,\n",
    "                          'Der er ingen tricuspidalklap stenose.' : 1,\n",
    "                          'Tricuspidalklappen er normal i såvel strukturel som funktionel henseende.' : 1,\n",
    "                          'Der er en let tricuspidalklap stenose.' : 2,\n",
    "                          'Der er moderat tricuspidalklap stenose.' : 3,\n",
    "                          'Der er svær tricuspidalklap stenose.' : 4,\n",
    "                          'Der ses ingen tricuspidalklap insufficiens.' : 1,\n",
    "                          'Der er en let tricuspidalinsufficiens.' : 2,\n",
    "                          'Der er moderat tricuspidalinsufficiens.' : 3,\n",
    "                          'Der er svær tricuspidalinsufficiens.' : 4\n",
    "                          }\n",
    "intellispaceDF = intellispaceDF.replace({'Note' : intellispaceGradingDic})\n",
    "intellispaceDF['Note'].value_counts()"
   ]
  },
  {
   "cell_type": "code",
   "execution_count": null,
   "metadata": {},
   "outputs": [],
   "source": [
    "intellispaceLastDF = intellispaceDF.sort_values(by = ['CPR' , 'MeasureCode' , 'MeasurementTime']).groupby(['CPR' , 'MeasureCode']).last().reset_index()\n",
    "intellispaceLastDF"
   ]
  },
  {
   "cell_type": "code",
   "execution_count": null,
   "metadata": {},
   "outputs": [],
   "source": [
    "intellispacePivotDF = intellispaceDF.pivot_table(index = 'CPR' , columns = 'MeasureCode' , values = 'Note' , aggfunc = 'first')\n",
    "intellispacePivotDF = intellispacePivotDF.fillna(0).reset_index()\n",
    "intellispacePivotDF"
   ]
  },
  {
   "cell_type": "code",
   "execution_count": null,
   "metadata": {},
   "outputs": [],
   "source": [
    "preOpData"
   ]
  },
  {
   "cell_type": "code",
   "execution_count": null,
   "metadata": {},
   "outputs": [],
   "source": [
    "intellispacePivotMergeDF = pd.merge(preOpData , intellispacePivotDF , on = 'CPR' , how = 'left')\n",
    "intellispacePivotMergeDF"
   ]
  },
  {
   "cell_type": "code",
   "execution_count": null,
   "metadata": {},
   "outputs": [],
   "source": [
    "len(list(set(intellispaceDF['CPR'])))"
   ]
  },
  {
   "cell_type": "code",
   "execution_count": null,
   "metadata": {},
   "outputs": [],
   "source": [
    "intellispacePivotMergeDF.isna().sum()"
   ]
  },
  {
   "cell_type": "code",
   "execution_count": null,
   "metadata": {},
   "outputs": [],
   "source": [
    "preOpData = intellispacePivotMergeDF.replace(np.nan, 0)\n",
    "preOpData"
   ]
  },
  {
   "cell_type": "markdown",
   "metadata": {},
   "source": [
    "## Pre-op vitals"
   ]
  },
  {
   "cell_type": "code",
   "execution_count": null,
   "metadata": {},
   "outputs": [],
   "source": [
    "vitalsDF = pd.read_csv(r'FilteredData\\Vitals.csv')\n",
    "vitalsDF"
   ]
  },
  {
   "cell_type": "code",
   "execution_count": null,
   "metadata": {},
   "outputs": [],
   "source": [
    "vitalsDF = vitalsDF[vitalsDF['CPR'].isin(preOpData['CPR'])]\n",
    "vitalsDF"
   ]
  },
  {
   "cell_type": "code",
   "execution_count": null,
   "metadata": {},
   "outputs": [],
   "source": [
    "len(list(set(vitalsDF['CPR'])))"
   ]
  },
  {
   "cell_type": "code",
   "execution_count": null,
   "metadata": {},
   "outputs": [],
   "source": [
    "preOpData = preOpData[preOpData['CPR'].isin(vitalsDF['CPR'])]\n",
    "preOpData"
   ]
  },
  {
   "cell_type": "code",
   "execution_count": null,
   "metadata": {},
   "outputs": [],
   "source": [
    "firstVitals = vitalsDF.groupby('CPR').first().reset_index()\n",
    "numericColumns = firstVitals.select_dtypes(include = [np.number])\n",
    "firstVitals[numericColumns.columns] = numericColumns.mask(numericColumns <= 0 , np.nan)\n",
    "firstVitals.isna().sum()"
   ]
  },
  {
   "cell_type": "code",
   "execution_count": null,
   "metadata": {},
   "outputs": [],
   "source": [
    "firstVitals = firstVitals.drop(columns = ['PAPMiddle', 'CentralVenousPressureMean'])\n",
    "firstVitals = firstVitals.dropna()\n",
    "firstVitals"
   ]
  },
  {
   "cell_type": "code",
   "execution_count": null,
   "metadata": {},
   "outputs": [],
   "source": [
    "preOpData = preOpData[preOpData['CPR'].isin(firstVitals['CPR'])]\n",
    "preOpData"
   ]
  },
  {
   "cell_type": "code",
   "execution_count": null,
   "metadata": {},
   "outputs": [],
   "source": [
    "firstVitalsMergeDF = pd.merge(preOpData , firstVitals , on = 'CPR' , how = 'left')\n",
    "firstVitalsMergeDF"
   ]
  },
  {
   "cell_type": "code",
   "execution_count": null,
   "metadata": {},
   "outputs": [],
   "source": [
    "preOpData = firstVitalsMergeDF"
   ]
  },
  {
   "cell_type": "code",
   "execution_count": null,
   "metadata": {},
   "outputs": [],
   "source": [
    "preOpData.isna().sum()"
   ]
  },
  {
   "cell_type": "code",
   "execution_count": null,
   "metadata": {},
   "outputs": [],
   "source": [
    "count = preOpConferenceDF[preOpConferenceDF['CPR'].isin(preOpData['CPR'])]\n",
    "len(list(set(count['CPR'])))\n"
   ]
  },
  {
   "cell_type": "code",
   "execution_count": null,
   "metadata": {},
   "outputs": [],
   "source": [
    "weightCount = preOpConferenceDF.groupby('CPR').filter(lambda group: (group['Measurement'] == 'Vægt').any())['CPR'].nunique()\n",
    "weightCount"
   ]
  },
  {
   "cell_type": "code",
   "execution_count": null,
   "metadata": {},
   "outputs": [],
   "source": [
    "heightCount = preOpConferenceDF.groupby('CPR').filter(lambda group: (group['Measurement'] == 'Højde').any())['CPR'].nunique()\n",
    "heightCount"
   ]
  },
  {
   "cell_type": "code",
   "execution_count": null,
   "metadata": {},
   "outputs": [],
   "source": [
    "preOpData = preOpData[preOpData['CPR'].isin(preOpConferenceDF['CPR'])].drop(columns = ['TimeOfMeasurement']).reset_index(drop = True)\n",
    "preOpData"
   ]
  },
  {
   "cell_type": "code",
   "execution_count": null,
   "metadata": {},
   "outputs": [],
   "source": [
    "preOpData.isna().sum()"
   ]
  },
  {
   "cell_type": "code",
   "execution_count": null,
   "metadata": {},
   "outputs": [],
   "source": [
    "len(list(set(preOpConferenceDF['CPR'])))"
   ]
  },
  {
   "cell_type": "markdown",
   "metadata": {},
   "source": [
    "## EuroScoreII"
   ]
  },
  {
   "cell_type": "code",
   "execution_count": null,
   "metadata": {},
   "outputs": [],
   "source": [
    "preOpConferenceDF = preOpConferenceDF[preOpConferenceDF['CPR'].isin(preOpData['CPR'])]\n",
    "preOpData = preOpData[preOpData['CPR'].isin(preOpConferenceDF['CPR'])]\n",
    "euroScoreIIConferenceList = []\n",
    "\n",
    "for index, cpr in preOpConferenceDF.groupby('CPR') :\n",
    "    euroScoreII = cpr[cpr['Measurement'] == 'Mortalitetsrisiko i %']['Value'].iloc[-1] if 'Mortalitetsrisiko i %' in cpr['Measurement'].values else np.nan\n",
    "    #weight = cpr[cpr['Measurement'] == 'Vægt']['Value'].iloc[-1] if 'Vægt' in cpr['Measurement'].values else np.nan\n",
    "\n",
    "    euroScoreIIConferenceList.append(euroScoreII)\n",
    "preOpData['EuroScoreII_1'] = euroScoreIIConferenceList"
   ]
  },
  {
   "cell_type": "code",
   "execution_count": null,
   "metadata": {},
   "outputs": [],
   "source": [
    "PATSdf = pd.read_csv(r'FilteredData\\PATS.csv')\n",
    "PATSdf = PATSdf[PATSdf['CPR'].isin(preOpData['CPR'])].reset_index(drop = True)\n",
    "preOpData['EuroScoreII_2'] = PATSdf['euroSCOREII']\n",
    "preOpData"
   ]
  },
  {
   "cell_type": "code",
   "execution_count": null,
   "metadata": {},
   "outputs": [],
   "source": [
    "euroScoreIIMissing = preOpData[preOpData['EuroScoreII_1'].isna() & preOpData['EuroScoreII_2'].isna()]\n",
    "euroScoreIIMissing"
   ]
  },
  {
   "cell_type": "code",
   "execution_count": null,
   "metadata": {},
   "outputs": [],
   "source": [
    "euroScoreIIMatches = preOpData[preOpData['EuroScoreII_1'].notna() | preOpData['EuroScoreII_2'].notna()]\n",
    "euroScoreIIMatches"
   ]
  },
  {
   "cell_type": "code",
   "execution_count": null,
   "metadata": {},
   "outputs": [],
   "source": [
    "preOpData = preOpData.drop(columns = ['EuroScoreII_1', 'EuroScoreII_2'])\n",
    "preOpData"
   ]
  },
  {
   "cell_type": "code",
   "execution_count": null,
   "metadata": {},
   "outputs": [],
   "source": [
    "preOpData.to_csv(r'FilteredData\\DataPreOp.csv' , index = False)"
   ]
  },
  {
   "cell_type": "markdown",
   "metadata": {},
   "source": [
    "# Peri-op data"
   ]
  },
  {
   "cell_type": "code",
   "execution_count": null,
   "metadata": {},
   "outputs": [],
   "source": [
    "PATSdf = PATSdf[PATSdf['CPR'].isin(preOpData['CPR'])]\n",
    "PATSdf = PATSdf.drop(columns = ['index' , 'euroSCOREII'])\n",
    "PATSdf = PATSdf.sort_values('CPR').reset_index(drop = True)\n",
    "PATSdf"
   ]
  },
  {
   "cell_type": "code",
   "execution_count": null,
   "metadata": {},
   "outputs": [],
   "source": [
    "PATSdf['ProcedureDate'] = pd.to_datetime(PATSdf['ProcedureDate'])\n",
    "PATSdf['DeathDate'] = pd.to_datetime(PATSdf['DeathDate'])"
   ]
  },
  {
   "cell_type": "code",
   "execution_count": null,
   "metadata": {},
   "outputs": [],
   "source": [
    "PATSdf['TimeAlive'] = (PATSdf['DeathDate']  - PATSdf['ProcedureDate']).dt.days\n",
    "PATSdf['within30Days'] = ((PATSdf['TimeAlive'] <= 30)).astype(int)\n",
    "PATSdf['within90Days'] = ((PATSdf['TimeAlive'] <= 90)).astype(int)\n",
    "PATSdf['within365Days'] = ((PATSdf['TimeAlive'] <= 365)).astype(int)\n",
    "PATSdf"
   ]
  },
  {
   "cell_type": "code",
   "execution_count": null,
   "metadata": {},
   "outputs": [],
   "source": [
    "SKSCodes = PATSdf[['SKSCode1','SKSCode2','SKSCode3','SKSCode4','SKSCode6']]\n",
    "SKSCodes = pd.get_dummies(SKSCodes.stack(), prefix='', prefix_sep='').groupby(level=0).max()\n",
    "SKSCodes = pd.concat([PATSdf['CPR'], SKSCodes] , axis = 1)\n",
    "SKSCodes.iloc[:,1:] = SKSCodes.iloc[:,1:].astype(int)\n",
    "SKSCodes = SKSCodes.drop(columns = ['FA' , 'FB' , 'FF' , 'FH' , 'FJ' , 'FL' , 'GE' , 'UG' , 'GD' , 'YF' ,'fe'])\n",
    "SKSCodes = SKSCodes[~((SKSCodes['FX'] == 1) & (SKSCodes[['FC','FE','FG','FK','FM','FN','FP','FW']].sum(axis=1) == 0))].reset_index(drop = True)\n",
    "SKSCodes"
   ]
  },
  {
   "cell_type": "code",
   "execution_count": null,
   "metadata": {},
   "outputs": [],
   "source": [
    "print(len(list(set(preOpData['CPR']))))"
   ]
  },
  {
   "cell_type": "code",
   "execution_count": null,
   "metadata": {},
   "outputs": [],
   "source": [
    "phase1AnesDF = pd.read_csv(r'FilteredData/phase1Anesthesia.csv')\n",
    "phase2AnesDF = pd.read_csv(r'FilteredData/phase2Anesthesia.csv')\n",
    "phase3AnesDF = pd.read_csv(r'FilteredData/phase3Anesthesia.csv')\n",
    "phase1HemoDF = pd.read_csv(r'FilteredData/phase1FinalHemo.csv')\n",
    "phase2HemoDF = pd.read_csv(r'FilteredData/phase2FinalHemo.csv')\n",
    "phase3HemoDF = pd.read_csv(r'FilteredData/phase3FinalHemo.csv')"
   ]
  },
  {
   "cell_type": "code",
   "execution_count": null,
   "metadata": {},
   "outputs": [],
   "source": [
    "phase2AnesDF"
   ]
  },
  {
   "cell_type": "code",
   "execution_count": null,
   "metadata": {},
   "outputs": [],
   "source": [
    "print(len(list(set(phase1AnesDF['CPR']))))\n",
    "print(len(list(set(phase2AnesDF['CPR']))))\n",
    "print(len(list(set(phase3AnesDF['CPR']))))\n",
    "print(len(list(set(phase1HemoDF['CPR']))))\n",
    "print(len(list(set(phase2HemoDF['CPR']))))\n",
    "print(len(list(set(phase3HemoDF['CPR']))))"
   ]
  },
  {
   "cell_type": "code",
   "execution_count": null,
   "metadata": {},
   "outputs": [],
   "source": [
    "phase1AnesDF = phase1AnesDF.dropna().reset_index(drop = True)\n",
    "phase2AnesDF = phase2AnesDF.dropna().reset_index(drop = True)\n",
    "phase3AnesDF = phase3AnesDF.dropna().reset_index(drop = True)"
   ]
  },
  {
   "cell_type": "code",
   "execution_count": null,
   "metadata": {},
   "outputs": [],
   "source": [
    "phase2AnesDF"
   ]
  },
  {
   "cell_type": "code",
   "execution_count": null,
   "metadata": {},
   "outputs": [],
   "source": [
    "organFailureDF = pd.read_csv(r'FilteredData\\SecondaryOutcome.csv')\n",
    "organFailureDF = organFailureDF.drop(columns = ['Unnamed: 0' , 'krea_max' , 'pre_krea']).sort_values(['cpr'])\n",
    "organFailureDF = organFailureDF[organFailureDF['AKI_any'].notna()].reset_index(drop = True)\n",
    "organFailureDF"
   ]
  },
  {
   "cell_type": "code",
   "execution_count": null,
   "metadata": {},
   "outputs": [],
   "source": [
    "Commonpatients = set(phase1AnesDF['CPR']).intersection(phase2AnesDF['CPR'], phase3AnesDF['CPR'], phase1HemoDF['CPR'], phase2HemoDF['CPR'], phase3HemoDF['CPR'],preOpData['CPR'], SKSCodes['CPR'], organFailureDF['cpr'])\n",
    "phase1AnesDF = phase1AnesDF[phase1AnesDF['CPR'].isin(Commonpatients)].reset_index(drop = True)\n",
    "phase2AnesDF = phase2AnesDF[phase2AnesDF['CPR'].isin(Commonpatients)].reset_index(drop = True)\n",
    "phase3AnesDF = phase3AnesDF[phase3AnesDF['CPR'].isin(Commonpatients)].reset_index(drop = True)\n",
    "phase1HemoDF = phase1HemoDF[phase1HemoDF['CPR'].isin(Commonpatients)].reset_index(drop = True)\n",
    "phase2HemoDF = phase2HemoDF[phase2HemoDF['CPR'].isin(Commonpatients)].reset_index(drop = True)\n",
    "phase3HemoDF = phase3HemoDF[phase3HemoDF['CPR'].isin(Commonpatients)].reset_index(drop = True)\n",
    "SKSCodes = SKSCodes[SKSCodes['CPR'].isin(Commonpatients)].reset_index(drop = True)\n",
    "preOpData = preOpData[preOpData['CPR'].isin(Commonpatients)].reset_index(drop = True)\n"
   ]
  },
  {
   "cell_type": "code",
   "execution_count": null,
   "metadata": {},
   "outputs": [],
   "source": [
    "print(len(list(set(phase1AnesDF['CPR']))))\n",
    "print(len(list(set(phase2AnesDF['CPR']))))\n",
    "print(len(list(set(phase3AnesDF['CPR']))))\n",
    "print(len(list(set(phase1HemoDF['CPR']))))\n",
    "print(len(list(set(phase2HemoDF['CPR']))))\n",
    "print(len(list(set(phase3HemoDF['CPR']))))"
   ]
  },
  {
   "cell_type": "code",
   "execution_count": null,
   "metadata": {},
   "outputs": [],
   "source": [
    "phase2AnesDF"
   ]
  },
  {
   "cell_type": "code",
   "execution_count": null,
   "metadata": {},
   "outputs": [],
   "source": [
    "preOpData = preOpData[preOpData['CPR'].isin(phase3AnesDF['CPR'])].reset_index(drop = True)\n",
    "print(len(list(set(preOpData['CPR']))))"
   ]
  },
  {
   "cell_type": "code",
   "execution_count": null,
   "metadata": {},
   "outputs": [],
   "source": [
    "phase1HemoDF = phase1HemoDF.iloc[:,[0,3,6,9,12,15,18,21, #Pulse\n",
    "                                    1,4,7,10,13,16,19,   #CVP\n",
    "                                    2,5,8,11,14,17,20,   #MAP\n",
    "                                    22,23]]              #LAP PAP\n",
    "phase2HemoDF = phase2HemoDF.iloc[:,[0,1,3,5,7,9,11,13, #CVP\n",
    "                                    2,4,6,8,10,12,14,   #MAP\n",
    "                                    15,16]]              #LAP PAP\n",
    "phase3HemoDF = phase3HemoDF.iloc[:,[0,3,6,9,12,15,18,21, #Pulse\n",
    "                                    1,4,7,10,13,16,19,   #CVP\n",
    "                                    2,5,8,11,14,17,20,   #MAP\n",
    "                                    22,23]]              #LAP PAP\n",
    "\n",
    "phase1HemoDF"
   ]
  },
  {
   "cell_type": "code",
   "execution_count": null,
   "metadata": {},
   "outputs": [],
   "source": [
    "phase2HemoDF"
   ]
  },
  {
   "cell_type": "code",
   "execution_count": null,
   "metadata": {},
   "outputs": [],
   "source": [
    "cleanAnesthesiaEventDF['EventTime'] = pd.to_datetime(cleanAnesthesiaEventDF['EventTime'])\n",
    "cleanAnesthesiaEventPivotDF = cleanAnesthesiaEventDF.pivot(index='CPR', columns='Event', values='EventTime').reset_index()"
   ]
  },
  {
   "cell_type": "code",
   "execution_count": null,
   "metadata": {},
   "outputs": [],
   "source": [
    "phase1DF = pd.merge(phase1AnesDF, phase1HemoDF, on = 'CPR' , how = 'left')\n",
    "phase1DF['ETCO2_log'] = np.log(phase1DF['ETCO2_p50'])\n",
    "phase1DF['Saturation_log'] = np.log(phase1DF['Saturation_p50'])\n",
    "phase1DF['Perf. Index_log'] = np.log(phase1DF['Perf. Index_p50'])\n",
    "phase1DF['Pulse_log'] = np.log(phase1DF['Pulse_p50'])\n",
    "phase1DF['CVP_log'] = np.log(phase1DF['CVP_p50'])\n",
    "phase1DF['MAP_log'] = np.log(phase1DF['MAP_p50'])\n",
    "phase1Merged = pd.merge(phase1DF, cleanAnesthesiaEventPivotDF, on='CPR')\n",
    "phase1Merged['TimeOfPhase'] = (phase1Merged['Aorta tang på'] - phase1Merged['Induktion']) / pd.Timedelta(minutes = 1)\n",
    "phase1DF = phase1Merged.drop(columns = ['Aorta tang på', 'Aorta tang af' , 'Induktion' , 'Stop Data Indsamling'])\n",
    "phase1DF"
   ]
  },
  {
   "cell_type": "code",
   "execution_count": null,
   "metadata": {},
   "outputs": [],
   "source": [
    "phase2DF = pd.merge(phase2AnesDF, phase2HemoDF, on = 'CPR' , how = 'left')\n",
    "phase2DF['Saturation_log'] = np.log(phase2DF['Saturation_p50'])\n",
    "phase2DF['Perf. Index_log'] = np.log(phase2DF['Perf. Index_p50'])\n",
    "phase2DF['CVP_log'] = np.log(phase2DF['CVP_p50'])\n",
    "phase2DF['MAP_log'] = np.log(phase2DF['MAP_p50'])\n",
    "phase2Merged = pd.merge(phase2DF, cleanAnesthesiaEventPivotDF, on='CPR')\n",
    "phase2Merged['TimeOfPhase'] = (phase2Merged['Aorta tang af'] - phase2Merged['Aorta tang på']) / pd.Timedelta(minutes = 1)\n",
    "phase2DF = phase2Merged.drop(columns = ['Aorta tang på', 'Aorta tang af' , 'Induktion' , 'Stop Data Indsamling'])\n",
    "phase2DF"
   ]
  },
  {
   "cell_type": "code",
   "execution_count": null,
   "metadata": {},
   "outputs": [],
   "source": [
    "phase3DF = pd.merge(phase3AnesDF, phase3HemoDF, on = 'CPR' , how = 'left')\n",
    "phase3DF['ETCO2_log'] = np.log(phase3DF['ETCO2_p50'])\n",
    "phase3DF['Saturation_log'] = np.log(phase3DF['Saturation_p50'])\n",
    "phase3DF['Perf. Index_log'] = np.log(phase3DF['Perf. Index_p50'])\n",
    "phase3DF['Pulse_log'] = np.log(phase3DF['Pulse_p50'])\n",
    "phase3DF['CVP_log'] = np.log(phase3DF['CVP_p50'])\n",
    "phase3DF['MAP_log'] = np.log(phase3DF['MAP_p50'])\n",
    "phase3Merged = pd.merge(phase3DF, cleanAnesthesiaEventPivotDF, on='CPR')\n",
    "phase3Merged['TimeOfPhase'] = (phase3Merged['Stop Data Indsamling'] - phase3Merged['Aorta tang af']) / pd.Timedelta(minutes = 1)\n",
    "phase3DF = phase3Merged.drop(columns = ['Aorta tang på', 'Aorta tang af' , 'Induktion' , 'Stop Data Indsamling'])\n",
    "phase3DF"
   ]
  },
  {
   "cell_type": "code",
   "execution_count": null,
   "metadata": {},
   "outputs": [],
   "source": [
    "phase3DF = pd.merge(phase3DF, SKSCodes, on='CPR')\n",
    "#phase3DF = phase3Merged.drop(columns = ['ProcedureDate' , 'Age'])\n",
    "phase3DF"
   ]
  },
  {
   "cell_type": "code",
   "execution_count": null,
   "metadata": {},
   "outputs": [],
   "source": [
    "PATSdf = PATSdf[PATSdf['CPR'].isin(preOpData['CPR'])].reset_index(drop = True)\n",
    "PATSdf"
   ]
  },
  {
   "cell_type": "markdown",
   "metadata": {},
   "source": [
    "Final changes"
   ]
  },
  {
   "cell_type": "code",
   "execution_count": null,
   "metadata": {},
   "outputs": [],
   "source": [
    "organFailureDF['AKI_any'].value_counts()"
   ]
  },
  {
   "cell_type": "code",
   "execution_count": null,
   "metadata": {},
   "outputs": [],
   "source": [
    "organFailureDF['AKI2_moderate'].value_counts()"
   ]
  },
  {
   "cell_type": "code",
   "execution_count": null,
   "metadata": {},
   "outputs": [],
   "source": [
    "organFailureDF['ventilatortime_gt_6h'].value_counts()"
   ]
  },
  {
   "cell_type": "code",
   "execution_count": null,
   "metadata": {},
   "outputs": [],
   "source": [
    "organFailureDF['ventilatortime_gt_12h'].value_counts()"
   ]
  },
  {
   "cell_type": "code",
   "execution_count": null,
   "metadata": {},
   "outputs": [],
   "source": [
    "cleanAnesthesiaEventDF = cleanAnesthesiaEventDF[cleanAnesthesiaEventDF['CPR'].isin(preOpData['CPR'])]\n",
    "finalPatients = cleanAnesthesiaEventDF.drop_duplicates(subset = 'CPR').reset_index(drop = True)\n",
    "finalPatients.to_csv(r'FilteredData/final patient list with end times.csv', columns = ['CPR', 'EndOfProcedure'])\n",
    "len(list(set(cleanAnesthesiaEventDF['CPR'])))"
   ]
  },
  {
   "cell_type": "code",
   "execution_count": null,
   "metadata": {},
   "outputs": [],
   "source": [
    "populationDF = populationDF[populationDF['CPR'].isin(preOpData['CPR'])].reset_index(drop = True)\n",
    "len(list(set(populationDF['CPR'])))"
   ]
  },
  {
   "cell_type": "code",
   "execution_count": null,
   "metadata": {},
   "outputs": [],
   "source": [
    "PATSdf['TimeOfStayInDays'] = populationDF['DurationInDaysAfterOperation']\n",
    "PATSdf['TimeOfOperationInMinutes'] = cleanAnesthesiaEventDF['TimeInMinutes'].reset_index(drop = True)\n",
    "PATSdf['ventilatorTime6h'] = organFailureDF['ventilatortime_gt_6h'].map({'Yes': 1, 'No': 0})\n",
    "PATSdf['AKI'] = organFailureDF['AKI_any'].map({'Yes': 1, 'No': 0})"
   ]
  },
  {
   "cell_type": "code",
   "execution_count": null,
   "metadata": {},
   "outputs": [],
   "source": [
    "phase1DF['CPR'], _ = pd.factorize(phase1DF['CPR'])\n",
    "phase2DF['CPR'], _ = pd.factorize(phase2DF['CPR'])\n",
    "phase3DF['CPR'], _ = pd.factorize(phase3DF['CPR'])\n",
    "preOpData['CPR'], _ = pd.factorize(preOpData['CPR'])\n",
    "PATSdf['CPR'], _ = pd.factorize(PATSdf['CPR'])"
   ]
  },
  {
   "cell_type": "code",
   "execution_count": null,
   "metadata": {},
   "outputs": [],
   "source": [
    "preOpData['Sex'] = preOpData['Sex'].map({'Kvinde': 1, 'Mand': 0})\n",
    "preOpData = preOpData.astype(int)\n",
    "phase3DF = phase3DF.drop(columns = ['FD' , 'FQ'])"
   ]
  },
  {
   "cell_type": "code",
   "execution_count": null,
   "metadata": {},
   "outputs": [],
   "source": [
    "phase1DF.to_csv(r'FinalData\\phase1.csv' , index = False)\n",
    "phase2DF.to_csv(r'FinalData\\phase2.csv' , index = False)\n",
    "phase3DF.to_csv(r'FinalData\\phase3.csv' , index = False)\n",
    "preOpData.to_csv(r'FinalData\\PreOp.csv' , index = False)\n",
    "PATSdf.to_csv(r'FinalData\\OutComes.csv' , index = False , columns = ['CPR', \n",
    "                                                                     'within30Days' , \n",
    "                                                                     'within90Days' , \n",
    "                                                                     'within365Days' , \n",
    "                                                                     'TimeOfStayInDays' , \n",
    "                                                                     'TimeOfOperationInMinutes',\n",
    "                                                                     'ventilatorTime6h',\n",
    "                                                                     'AKI'])"
   ]
  },
  {
   "cell_type": "code",
   "execution_count": null,
   "metadata": {},
   "outputs": [],
   "source": [
    "preOpData"
   ]
  },
  {
   "cell_type": "code",
   "execution_count": null,
   "metadata": {},
   "outputs": [],
   "source": []
  }
 ],
 "metadata": {
  "kernelspec": {
   "display_name": "base",
   "language": "python",
   "name": "python3"
  },
  "language_info": {
   "codemirror_mode": {
    "name": "ipython",
    "version": 3
   },
   "file_extension": ".py",
   "mimetype": "text/x-python",
   "name": "python",
   "nbconvert_exporter": "python",
   "pygments_lexer": "ipython3",
   "version": "3.11.5"
  }
 },
 "nbformat": 4,
 "nbformat_minor": 2
}
