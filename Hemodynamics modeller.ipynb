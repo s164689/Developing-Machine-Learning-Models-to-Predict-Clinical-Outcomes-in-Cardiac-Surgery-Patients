{
 "cells": [
  {
   "cell_type": "code",
   "execution_count": null,
   "metadata": {},
   "outputs": [],
   "source": [
    "#import csv\n",
    "import matplotlib.pyplot as plt\n",
    "import numpy as np\n",
    "import pandas as pd\n",
    "import chardet\n",
    "from datetime import datetime, timedelta\n",
    "import locale\n",
    "from sklearn.decomposition import PCA\n",
    "from sklearn import preprocessing\n",
    "import prince"
   ]
  },
  {
   "cell_type": "code",
   "execution_count": null,
   "metadata": {},
   "outputs": [],
   "source": [
    "populationDF = pd.read_csv(r'FilteredData\\Population.csv')"
   ]
  },
  {
   "cell_type": "code",
   "execution_count": null,
   "metadata": {},
   "outputs": [],
   "source": [
    "hemodynamicDF = pd.read_csv(r\"DataCSV\\Advancerede hæmodynamiske mål.csv\" , sep = \";\")\n",
    "hemodynamicDF"
   ]
  },
  {
   "cell_type": "code",
   "execution_count": null,
   "metadata": {},
   "outputs": [],
   "source": [
    "hemodynamicDF = hemodynamicDF[hemodynamicDF['cpr'].isin(populationDF['CPR'])].reset_index(drop = True)\n",
    "hemodynamicDF[hemodynamicDF['Målingsnavn'] == 'PAP (middel)']"
   ]
  },
  {
   "cell_type": "code",
   "execution_count": null,
   "metadata": {},
   "outputs": [],
   "source": [
    "temps = hemodynamicDF[hemodynamicDF['Målingsnavn'].str.startswith('Temp', na=False)]"
   ]
  },
  {
   "cell_type": "code",
   "execution_count": null,
   "metadata": {},
   "outputs": [],
   "source": [
    "temps['Målingsnavn'].value_counts()"
   ]
  },
  {
   "cell_type": "code",
   "execution_count": null,
   "metadata": {},
   "outputs": [],
   "source": [
    "hemodynamicDF[hemodynamicDF['Målingsnavn'] == 'Art']"
   ]
  },
  {
   "cell_type": "code",
   "execution_count": null,
   "metadata": {},
   "outputs": [],
   "source": [
    "keep = ['ABP Puls (fra A-kanyle)' , \n",
    "        'ABP mean inv BT' , \n",
    "        'ART Puls (fra A-kanyle)' , \n",
    "        'ART mean inv BT' , \n",
    "        'CVP (Middel)' , \n",
    "        'CVP (mean)' , \n",
    "        'Invasivt BT - ABP (mean)' , \n",
    "        'Invasivt BT - ART (mean)' , \n",
    "        'LAP (mean)' , 'LAP (middel)' , \n",
    "        'MAP' , 'PAP (middel)' , \n",
    "        'Puls' , \n",
    "        'ABP Puls (fra A-kanyle)' , \n",
    "        r\"Puls (fra BT's måling)\" , \n",
    "        'Puls (fra SAT-måler)', \n",
    "        'Temperatur', \n",
    "        'Temp.kilde',\n",
    "        'Temperatur 1',\n",
    "        'Temperatur 3',\n",
    "        'Temperatur, højre',\n",
    "        'Temperatur 2',\n",
    "        'Temperatur, venstre',\n",
    "        'Temperatur 4',\n",
    "        ]"
   ]
  },
  {
   "cell_type": "code",
   "execution_count": null,
   "metadata": {},
   "outputs": [],
   "source": [
    "check = hemodynamicDF['Målingsnavn'].value_counts()"
   ]
  },
  {
   "cell_type": "code",
   "execution_count": null,
   "metadata": {},
   "outputs": [],
   "source": [
    "hemodynamicKeptDF = hemodynamicDF[hemodynamicDF['Målingsnavn'].isin(keep)].drop(columns = ['Enhed' , 'Skema navn']).reset_index(drop = True)\n",
    "hemodynamicKeptDF"
   ]
  },
  {
   "cell_type": "code",
   "execution_count": null,
   "metadata": {},
   "outputs": [],
   "source": [
    "hemoDic = {'cpr'            : 'CPR' ,\n",
    "           'Målingsdatotid' : 'MeasurementTime' ,\n",
    "           'Målingsnavn'    : 'MeasurementName' ,\n",
    "           'Værdi'          : 'Value'}\n",
    "hemodynamicKeptDF = hemodynamicKeptDF.rename(columns = hemoDic)"
   ]
  },
  {
   "cell_type": "code",
   "execution_count": null,
   "metadata": {},
   "outputs": [],
   "source": [
    "print(len(list(set(hemodynamicKeptDF['CPR']))))\n",
    "hemodynamicKeptDF.isna().sum()"
   ]
  },
  {
   "cell_type": "code",
   "execution_count": null,
   "metadata": {},
   "outputs": [],
   "source": [
    "hemodynamicKeptDF['Value'] = hemodynamicKeptDF['Value'].astype(float)\n",
    "hemodynamicKeptDF.Value.dtype"
   ]
  },
  {
   "cell_type": "code",
   "execution_count": null,
   "metadata": {},
   "outputs": [],
   "source": [
    "hemodynamicKeptDF = hemodynamicKeptDF[hemodynamicKeptDF['Value'].notna()]\n",
    "hemodynamicKeptDF = hemodynamicKeptDF[hemodynamicKeptDF['Value'] > 0]\n",
    "hemodynamicKeptDF = hemodynamicKeptDF[hemodynamicKeptDF['Value'] < 300].reset_index(drop = True)\n",
    "hemodynamicKeptDF"
   ]
  },
  {
   "cell_type": "code",
   "execution_count": null,
   "metadata": {},
   "outputs": [],
   "source": [
    "hemoDic = {'ABP Puls (fra A-kanyle)'  : 'MAP', \n",
    "           'ABP mean inv BT'          : 'MAP', \n",
    "           'ART Puls (fra A-kanyle)'  : 'MAP', \n",
    "           'ART mean inv BT'          : 'MAP', \n",
    "           'CVP (Middel)'             : 'CVP', \n",
    "           'CVP (mean)'               : 'CVP', \n",
    "           'Invasivt BT - ABP (mean)' : 'MAP', \n",
    "           'Invasivt BT - ART (mean)' : 'MAP', \n",
    "           'LAP (mean)'               : 'LAP', \n",
    "           'LAP (middel)'             : 'LAP', \n",
    "           'MAP'                      : 'MAP', \n",
    "           'PAP (middel)'             : 'PAP',\n",
    "           'Puls'                     : 'Pulse', \n",
    "           'ABP Puls (fra A-kanyle)'  : 'Pulse', \n",
    "           r\"Puls (fra BT's måling)\"  : 'Pulse', \n",
    "           'Puls (fra SAT-måler)'     : 'Pulse'#,\n",
    "           #'Temperatur'               : 'Temperature', \n",
    "           #'Temp.kilde'               : 'Temperature',\n",
    "           #'Temperatur 1'             : 'Temperature',\n",
    "           #'Temperatur 3'             : 'Temperature',\n",
    "           #'Temperatur, højre'        : 'Temperature',\n",
    "           #'Temperatur 2'             : 'Temperature',\n",
    "           #'Temperatur, venstre'      : 'Temperature',\n",
    "           #'Temperatur 4'             : 'Temperature',\n",
    "           }"
   ]
  },
  {
   "cell_type": "code",
   "execution_count": null,
   "metadata": {},
   "outputs": [],
   "source": [
    "hemodynamicKeptDF = hemodynamicKeptDF.replace({'MeasurementName' : hemoDic})\n",
    "hemodynamicKeptDF['MeasurementName'].value_counts()"
   ]
  },
  {
   "cell_type": "code",
   "execution_count": null,
   "metadata": {},
   "outputs": [],
   "source": [
    "hemodynamicKeptDF = hemodynamicKeptDF.loc[hemodynamicKeptDF.groupby(['CPR', 'MeasurementTime', 'MeasurementName'])['Value'].idxmax()]"
   ]
  },
  {
   "cell_type": "code",
   "execution_count": null,
   "metadata": {},
   "outputs": [],
   "source": [
    "cleanAnesthesiaEventDF = pd.read_csv(r'FilteredData\\CleanAnesthesiaTime.csv')\n",
    "cleanAnesthesiaEventDF = cleanAnesthesiaEventDF.drop(columns = ['FirstEvent' , 'LastEvent' , 'StartOfProcedure' , 'EndOfProcedure' , 'TimeInMinutes'])\n",
    "cleanAnesthesiaEventDF = cleanAnesthesiaEventDF.sort_values(by = ['CPR' , 'EventTime' , 'Event'])\n",
    "cleanAnesthesiaEventDF['EventTime'] = pd.to_datetime(cleanAnesthesiaEventDF['EventTime'])\n",
    "\n",
    "hemodynamicKeptDF['MeasurementTime'] = pd.to_datetime(hemodynamicKeptDF['MeasurementTime'])\n",
    "\n",
    "duplicates = cleanAnesthesiaEventDF[cleanAnesthesiaEventDF.duplicated(subset=['CPR', 'Event'], keep=False)]"
   ]
  },
  {
   "cell_type": "code",
   "execution_count": null,
   "metadata": {},
   "outputs": [],
   "source": [
    "cleanAnesthesiaEventPivotDF = cleanAnesthesiaEventDF.pivot(index='CPR', columns='Event', values='EventTime').reset_index()\n",
    "hemodynamicKeptMergedDF = pd.merge(hemodynamicKeptDF, cleanAnesthesiaEventPivotDF, on='CPR')"
   ]
  },
  {
   "cell_type": "code",
   "execution_count": null,
   "metadata": {},
   "outputs": [],
   "source": [
    "phase1 = hemodynamicKeptMergedDF[(hemodynamicKeptMergedDF['MeasurementTime'] >= hemodynamicKeptMergedDF['Induktion']) & (hemodynamicKeptMergedDF['MeasurementTime'] < hemodynamicKeptMergedDF['Aorta tang på'])]\n",
    "phase2 = hemodynamicKeptMergedDF[(hemodynamicKeptMergedDF['MeasurementTime'] >= hemodynamicKeptMergedDF['Aorta tang på']) & (hemodynamicKeptMergedDF['MeasurementTime'] < hemodynamicKeptMergedDF['Aorta tang af'])]\n",
    "phase3 = hemodynamicKeptMergedDF[(hemodynamicKeptMergedDF['MeasurementTime'] >= hemodynamicKeptMergedDF['Aorta tang af']) & (hemodynamicKeptMergedDF['MeasurementTime'] < hemodynamicKeptMergedDF['Stop Data Indsamling'])]\n",
    "phase1 = phase1.drop(columns = ['Induktion' , 'Aorta tang på' , 'Aorta tang af' , 'Stop Data Indsamling'])\n",
    "phase2 = phase2.drop(columns = ['Induktion' , 'Aorta tang på' , 'Aorta tang af' , 'Stop Data Indsamling'])\n",
    "phase3 = phase3.drop(columns = ['Induktion' , 'Aorta tang på' , 'Aorta tang af' , 'Stop Data Indsamling'])"
   ]
  },
  {
   "cell_type": "code",
   "execution_count": null,
   "metadata": {},
   "outputs": [],
   "source": [
    "phase1['CPR'] = phase1['CPR'].astype('category')\n",
    "phase1['MeasurementName'] = phase1['MeasurementName'].astype('category')\n",
    "phase1['Value'] = pd.to_numeric(phase1['Value'], downcast='float')\n",
    "\n",
    "phase2['CPR'] = phase2['CPR'].astype('category')\n",
    "phase2['MeasurementName'] = phase2['MeasurementName'].astype('category')\n",
    "phase2['Value'] = pd.to_numeric(phase2['Value'], downcast='float')\n",
    "\n",
    "phase3['CPR'] = phase3['CPR'].astype('category')\n",
    "phase3['MeasurementName'] = phase3['MeasurementName'].astype('category')\n",
    "phase3['Value'] = pd.to_numeric(phase3['Value'], downcast='float')"
   ]
  },
  {
   "cell_type": "code",
   "execution_count": null,
   "metadata": {},
   "outputs": [],
   "source": [
    "phase1Percentiles = phase1[phase1['MeasurementName'].isin(['MAP', 'CVP' , 'Pulse'])].groupby(['CPR', 'MeasurementName'])['Value'].agg(\n",
    "    p5 =lambda x: x.quantile(0.05),\n",
    "    p10=lambda x: x.quantile(0.10),\n",
    "    p25=lambda x: x.quantile(0.25),\n",
    "    p50=lambda x: x.quantile(0.50),\n",
    "    p75=lambda x: x.quantile(0.75),\n",
    "    p90=lambda x: x.quantile(0.90),\n",
    "    p95=lambda x: x.quantile(0.95)\n",
    ").reset_index()\n",
    "\n",
    "phase1Percentiles = phase1Percentiles[(phase1Percentiles['MeasurementName'] == 'CVP') | (phase1Percentiles['MeasurementName'] == 'MAP') | (phase1Percentiles['MeasurementName'] == 'Pulse')]\n",
    "phase1PercentilesPivot = phase1Percentiles.pivot(index='CPR', columns='MeasurementName')\n",
    "phase1PercentilesPivot.columns = [f'{col[1]}_{col[0]}' for col in phase1PercentilesPivot.columns]\n",
    "\n",
    "phase1OneHot = pd.get_dummies(phase1[phase1['MeasurementName'].isin(['LAP', 'PAP'])].set_index('CPR')['MeasurementName']).groupby('CPR').max().reset_index()\n",
    "phase1OneHot = phase1OneHot.drop(columns = ['MAP', 'CVP' , 'Pulse'])\n",
    "\n",
    "phase1FinalHemoDF = phase1PercentilesPivot.merge(phase1OneHot, on='CPR', how='left')\n",
    "phase1FinalHemoDF.columns = ['CPR'] + [f'{col}_p{p}' for p in [5, 10, 25, 50, 75, 90, 95] for col in ['CVP' , 'MAP', 'Pulse']] + ['LAP', 'PAP']\n",
    "phase1FinalHemoDF['LAP'] = phase1FinalHemoDF['LAP'].fillna(0)\n",
    "phase1FinalHemoDF['PAP'] = phase1FinalHemoDF['PAP'].fillna(0)\n",
    "phase1FinalHemoDF = phase1FinalHemoDF.dropna()"
   ]
  },
  {
   "cell_type": "code",
   "execution_count": null,
   "metadata": {},
   "outputs": [],
   "source": [
    "phase2Percentiles = phase2[phase2['MeasurementName'].isin(['MAP', 'CVP'])].groupby(['CPR', 'MeasurementName'])['Value'].agg(\n",
    "    p5 =lambda x: x.quantile(0.05),\n",
    "    p10=lambda x: x.quantile(0.10),\n",
    "    p25=lambda x: x.quantile(0.25),\n",
    "    p50=lambda x: x.quantile(0.50),\n",
    "    p75=lambda x: x.quantile(0.75),\n",
    "    p90=lambda x: x.quantile(0.90),\n",
    "    p95=lambda x: x.quantile(0.95)\n",
    ").reset_index()\n",
    "\n",
    "phase2Percentiles = phase2Percentiles[(phase2Percentiles['MeasurementName'] == 'CVP') | (phase2Percentiles['MeasurementName'] == 'MAP')]\n",
    "phase2PercentilesPivot = phase2Percentiles.pivot(index='CPR', columns='MeasurementName')\n",
    "phase2PercentilesPivot.columns = [f'{col[1]}_{col[0]}' for col in phase2PercentilesPivot.columns]\n",
    "\n",
    "phase2OneHot = pd.get_dummies(phase2[phase2['MeasurementName'].isin(['LAP', 'PAP'])].set_index('CPR')['MeasurementName']).groupby('CPR').max().reset_index()\n",
    "phase2OneHot = phase2OneHot.drop(columns = ['MAP', 'CVP' , 'Pulse'])\n",
    "\n",
    "phase2FinalHemoDF = phase2PercentilesPivot.merge(phase2OneHot, on='CPR', how='left')\n",
    "phase2FinalHemoDF.columns = ['CPR'] + [f'{col}_p{p}' for p in [5, 10, 25, 50, 75, 90, 95] for col in ['CVP' , 'MAP']] + ['LAP', 'PAP']\n",
    "phase2FinalHemoDF['LAP'] = phase2FinalHemoDF['LAP'].fillna(0)\n",
    "phase2FinalHemoDF['PAP'] = phase2FinalHemoDF['PAP'].fillna(0)\n",
    "phase2FinalHemoDF = phase2FinalHemoDF.dropna()"
   ]
  },
  {
   "cell_type": "code",
   "execution_count": null,
   "metadata": {},
   "outputs": [],
   "source": [
    "phase3Percentiles = phase3[phase3['MeasurementName'].isin(['MAP', 'CVP' , 'Pulse'])].groupby(['CPR', 'MeasurementName'])['Value'].agg(\n",
    "    p5 =lambda x: x.quantile(0.05),\n",
    "    p10=lambda x: x.quantile(0.10),\n",
    "    p25=lambda x: x.quantile(0.25),\n",
    "    p50=lambda x: x.quantile(0.50),\n",
    "    p75=lambda x: x.quantile(0.75),\n",
    "    p90=lambda x: x.quantile(0.90),\n",
    "    p95=lambda x: x.quantile(0.95)\n",
    ").reset_index()\n",
    "\n",
    "phase3Percentiles = phase3Percentiles[(phase3Percentiles['MeasurementName'] == 'CVP') | (phase3Percentiles['MeasurementName'] == 'MAP') | (phase3Percentiles['MeasurementName'] == 'Pulse')]\n",
    "phase3PercentilesPivot = phase3Percentiles.pivot(index='CPR', columns='MeasurementName')\n",
    "phase3PercentilesPivot.columns = [f'{col[1]}_{col[0]}' for col in phase3PercentilesPivot.columns]\n",
    "\n",
    "phase3OneHot = pd.get_dummies(phase3[phase3['MeasurementName'].isin(['LAP', 'PAP'])].set_index('CPR')['MeasurementName']).groupby('CPR').max().reset_index()\n",
    "phase3OneHot = phase3OneHot.drop(columns = ['MAP', 'CVP' , 'Pulse'])\n",
    "\n",
    "phase3FinalHemoDF = phase3PercentilesPivot.merge(phase3OneHot, on='CPR', how='left')\n",
    "phase3FinalHemoDF.columns = ['CPR'] + [f'{col}_p{p}' for p in [5, 10, 25, 50, 75, 90, 95] for col in ['CVP' , 'MAP', 'Pulse'] ] + ['LAP', 'PAP']\n",
    "phase3FinalHemoDF['LAP'] = phase3FinalHemoDF['LAP'].fillna(0)\n",
    "phase3FinalHemoDF['PAP'] = phase3FinalHemoDF['PAP'].fillna(0)\n",
    "phase3FinalHemoDF = phase3FinalHemoDF.dropna()"
   ]
  },
  {
   "cell_type": "code",
   "execution_count": null,
   "metadata": {},
   "outputs": [],
   "source": [
    "print(len(list(set(phase1FinalHemoDF['CPR']))))\n",
    "print(len(list(set(phase2FinalHemoDF['CPR']))))\n",
    "print(len(list(set(phase3FinalHemoDF['CPR']))))"
   ]
  },
  {
   "cell_type": "code",
   "execution_count": null,
   "metadata": {},
   "outputs": [],
   "source": [
    "phase1FinalHemoDF.to_csv(r'FilteredData\\phase1FinalHemo.csv' , index = False)\n",
    "phase2FinalHemoDF.to_csv(r'FilteredData\\phase2FinalHemo.csv' , index = False)\n",
    "phase3FinalHemoDF.to_csv(r'FilteredData\\phase3FinalHemo.csv' , index = False)"
   ]
  },
  {
   "cell_type": "code",
   "execution_count": null,
   "metadata": {},
   "outputs": [],
   "source": [
    "print(len(list(set(hemodynamicKeptDF['CPR']))))"
   ]
  },
  {
   "cell_type": "code",
   "execution_count": null,
   "metadata": {},
   "outputs": [],
   "source": [
    "check = hemodynamicKeptDF['MeasurementName'].value_counts()"
   ]
  },
  {
   "cell_type": "code",
   "execution_count": null,
   "metadata": {},
   "outputs": [],
   "source": [
    "hemodynamicDF.to_csv(r'FilteredData\\HemodynamicMeasuresRAW.csv')"
   ]
  }
 ],
 "metadata": {
  "kernelspec": {
   "display_name": "base",
   "language": "python",
   "name": "python3"
  },
  "language_info": {
   "codemirror_mode": {
    "name": "ipython",
    "version": 3
   },
   "file_extension": ".py",
   "mimetype": "text/x-python",
   "name": "python",
   "nbconvert_exporter": "python",
   "pygments_lexer": "ipython3",
   "version": "3.12.4"
  }
 },
 "nbformat": 4,
 "nbformat_minor": 2
}
