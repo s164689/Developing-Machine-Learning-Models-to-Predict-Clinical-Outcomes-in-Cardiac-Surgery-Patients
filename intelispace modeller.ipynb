{
 "cells": [
  {
   "cell_type": "code",
   "execution_count": null,
   "metadata": {},
   "outputs": [],
   "source": [
    "#import csv\n",
    "import matplotlib.pyplot as plt\n",
    "import numpy as np\n",
    "import pandas as pd\n",
    "import chardet\n",
    "from datetime import datetime, timedelta\n",
    "import locale\n",
    "from sklearn.decomposition import PCA\n",
    "from sklearn import preprocessing\n",
    "import prince"
   ]
  },
  {
   "cell_type": "code",
   "execution_count": null,
   "metadata": {},
   "outputs": [],
   "source": [
    "intellispaceDF = pd.read_csv(r\"DataCSV\\intellispace.csv\" , sep = \",\")"
   ]
  },
  {
   "cell_type": "code",
   "execution_count": null,
   "metadata": {},
   "outputs": [],
   "source": [
    "intellispaceDF"
   ]
  },
  {
   "cell_type": "code",
   "execution_count": null,
   "metadata": {},
   "outputs": [],
   "source": [
    "len(list(set(intellispaceDF['id'])))"
   ]
  },
  {
   "cell_type": "code",
   "execution_count": null,
   "metadata": {},
   "outputs": [],
   "source": [
    "preOpData = pd.read_csv(r'FilteredData\\DataPreOp.csv')"
   ]
  },
  {
   "cell_type": "code",
   "execution_count": null,
   "metadata": {},
   "outputs": [],
   "source": [
    "intellispaceDic = {'timestamp'  : 'MeasurementTime',\n",
    "                   'id'         : 'CPR',\n",
    "                   'measure'\t: 'Measure',\n",
    "                   'value'\t    : 'Value',\n",
    "                   'measure.id' : 'MeasureCode',\n",
    "                   'note'       : 'Note'}\n",
    "\n",
    "intellispaceDF = intellispaceDF.rename(columns = intellispaceDic)\n",
    "intellispaceDF['CPR'] = intellispaceDF['CPR'].apply(lambda x: f\"{x[:6]}-{x[6:]}\")\n"
   ]
  },
  {
   "cell_type": "code",
   "execution_count": null,
   "metadata": {},
   "outputs": [],
   "source": [
    "tester = intellispaceDF[intellispaceDF['MeasureCode'] == 'SU-0092']\n",
    "tester = tester[tester['CPR'].isin(preOpData['CPR'])]\n",
    "len(list(set(tester['CPR'])))"
   ]
  },
  {
   "cell_type": "code",
   "execution_count": null,
   "metadata": {},
   "outputs": [],
   "source": [
    "intellispaceDF = intellispaceDF[intellispaceDF['CPR'].isin(preOpData['CPR'])].reset_index(drop = True)\n",
    "\n",
    "intellispaceDF"
   ]
  },
  {
   "cell_type": "code",
   "execution_count": null,
   "metadata": {},
   "outputs": [],
   "source": [
    "len(list(set(intellispaceDF['CPR'])))"
   ]
  },
  {
   "cell_type": "code",
   "execution_count": null,
   "metadata": {},
   "outputs": [],
   "source": [
    "intellispaceDF['Note'].value_counts()"
   ]
  },
  {
   "cell_type": "code",
   "execution_count": null,
   "metadata": {},
   "outputs": [],
   "source": [
    "intellispaceCount1 = intellispaceDF['MeasureCode'].value_counts().rename_axis('MeasureCode').reset_index(name='counts')\n",
    "intellispaceCount1"
   ]
  },
  {
   "cell_type": "code",
   "execution_count": null,
   "metadata": {},
   "outputs": [],
   "source": [
    "intellispaceCount2 = intellispaceDF['Note'].value_counts().rename_axis('Note').reset_index(name='counts')\n",
    "intellispaceCount2"
   ]
  },
  {
   "cell_type": "code",
   "execution_count": null,
   "metadata": {},
   "outputs": [],
   "source": [
    "intellispaceCount2.to_csv(r'FilteredData\\intellispaceNoteCount.csv')"
   ]
  },
  {
   "cell_type": "code",
   "execution_count": null,
   "metadata": {},
   "outputs": [],
   "source": [
    "intellispaceCount1.to_csv(r'FilteredData\\intellispaceCodeCount.csv')"
   ]
  },
  {
   "cell_type": "code",
   "execution_count": null,
   "metadata": {},
   "outputs": [],
   "source": [
    "intellispaceDF = intellispaceDF.drop(columns = ['Value', 'Measure'])"
   ]
  },
  {
   "cell_type": "code",
   "execution_count": null,
   "metadata": {},
   "outputs": [],
   "source": [
    "intellispaceDF.to_csv(r'FilteredData\\Intellispace.csv', index = False)"
   ]
  }
 ],
 "metadata": {
  "kernelspec": {
   "display_name": "base",
   "language": "python",
   "name": "python3"
  },
  "language_info": {
   "codemirror_mode": {
    "name": "ipython",
    "version": 3
   },
   "file_extension": ".py",
   "mimetype": "text/x-python",
   "name": "python",
   "nbconvert_exporter": "python",
   "pygments_lexer": "ipython3",
   "version": "3.12.4"
  }
 },
 "nbformat": 4,
 "nbformat_minor": 2
}
